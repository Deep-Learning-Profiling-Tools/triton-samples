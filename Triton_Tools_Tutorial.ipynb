{
  "cells": [
    {
      "cell_type": "markdown",
      "metadata": {
        "colab_type": "text",
        "id": "view-in-github"
      },
      "source": [
        "<a href=\"https://colab.research.google.com/github/Jokeren/triton-samples/blob/main/Triton_Tools_Tutorial.ipynb\" target=\"_parent\"><img src=\"https://colab.research.google.com/assets/colab-badge.svg\" alt=\"Open In Colab\"/></a>"
      ]
    },
    {
      "cell_type": "markdown",
      "metadata": {
        "id": "PON--s1kWgEs"
      },
      "source": [
        "# Preparation"
      ]
    },
    {
      "cell_type": "markdown",
      "metadata": {
        "id": "d1k5pOL8dgxc"
      },
      "source": [
        "### Install PyTorch\n"
      ]
    },
    {
      "cell_type": "code",
      "execution_count": null,
      "metadata": {
        "colab": {
          "base_uri": "https://localhost:8080/"
        },
        "id": "QGKbgHikdiuJ",
        "outputId": "3dfa2c19-b007-4db7-e1ca-94898fd58166"
      },
      "outputs": [],
      "source": [
        "%pip uninstall -y torch torchvision torchaudio\n",
        "%pip install --pre torch torchvision torchaudio --index-url https://download.pytorch.org/whl/nightly/cu121"
      ]
    },
    {
      "cell_type": "markdown",
      "metadata": {
        "id": "LhRLnJZfaORe"
      },
      "source": [
        "### Alternative: Install Triton from source"
      ]
    },
    {
      "cell_type": "code",
      "execution_count": null,
      "metadata": {
        "colab": {
          "base_uri": "https://localhost:8080/"
        },
        "id": "H2FNam7FUd_2",
        "outputId": "878a0225-3a60-4770-e28f-a0288fb48268"
      },
      "outputs": [],
      "source": [
        "%git clone https://github.com/triton-lang/triton.git\n",
        "%cd triton/python/\n",
        "\n",
        "%pip install ninja cmake wheel pybind11; # build-time dependencies\n",
        "%pip install -e ."
      ]
    },
    {
      "cell_type": "markdown",
      "metadata": {
        "id": "VqQKPhXFmxQL"
      },
      "source": [
        "# Interpreter"
      ]
    },
    {
      "cell_type": "markdown",
      "metadata": {},
      "source": [
        "### Import packages"
      ]
    },
    {
      "cell_type": "code",
      "execution_count": null,
      "metadata": {},
      "outputs": [],
      "source": [
        "import torch\n",
        "import triton\n",
        "import triton.language as tl"
      ]
    },
    {
      "cell_type": "markdown",
      "metadata": {
        "id": "sQWLNl7Qv4Ve"
      },
      "source": [
        "### tl.device_print"
      ]
    },
    {
      "cell_type": "code",
      "execution_count": null,
      "metadata": {
        "id": "6Aha4IYJv_xP"
      },
      "outputs": [],
      "source": [
        "@triton.jit\n",
        "def add_kernel_device_print(x_ptr, y_ptr, z_ptr, dim0, dim1,\n",
        "                            BLOCK_DIM0: tl.constexpr, BLOCK_DIM1: tl.constexpr):\n",
        "  pid_x = tl.program_id(axis=0)\n",
        "  pid_y = tl.program_id(axis=1)\n",
        "  block_start = pid_x * BLOCK_DIM0 * dim1 + pid_y * BLOCK_DIM1\n",
        "  offsets_dim0 = tl.arange(0, BLOCK_DIM0)[:,None]\n",
        "  offsets_dim1 = tl.arange(0, BLOCK_DIM1)[None, :]\n",
        "  offsets = block_start + offsets_dim0 * dim1 + offsets_dim1\n",
        "  tl.device_print(\"offsets=\", offsets)\n",
        "  masks = (offsets_dim0 < dim0) & (offsets_dim1 < dim1)\n",
        "  x = tl.load(x_ptr + offsets, mask=masks)\n",
        "  y = tl.load(y_ptr + offsets, mask=masks)\n",
        "  output = x + y\n",
        "  tl.store(z_ptr + offsets, output, mask=masks)\n"
      ]
    },
    {
      "cell_type": "code",
      "execution_count": null,
      "metadata": {
        "id": "oxK7e_RemwYp"
      },
      "outputs": [],
      "source": [
        "a = torch.randn(128, 128, device=\"cuda\")\n",
        "b = torch.randn(128, 128, device=\"cuda\")\n",
        "c = torch.zeros(128, 128, device=\"cuda\")\n",
        "add_kernel_device_print[(8, 8)](a, b, c, 128, 128, 16, 16)\n",
        "c_ref = a + b\n",
        "assert torch.allclose(c, c_ref)"
      ]
    },
    {
      "cell_type": "markdown",
      "metadata": {},
      "source": [
        "### Initialize the interpreter"
      ]
    },
    {
      "cell_type": "code",
      "execution_count": null,
      "metadata": {},
      "outputs": [],
      "source": [
        "import os\n",
        "os.environ[\"TRITON_INTERPRET\"] = \"1\"\n",
        "\n",
        "import importlib\n",
        "\n",
        "importlib.reload(triton)\n",
        "importlib.reload(tl)"
      ]
    },
    {
      "cell_type": "markdown",
      "metadata": {},
      "source": [
        "### Demo 1: Interpreter print"
      ]
    },
    {
      "cell_type": "code",
      "execution_count": null,
      "metadata": {},
      "outputs": [],
      "source": [
        "@triton.jit\n",
        "def add_kernel_print(x_ptr, y_ptr, z_ptr, dim0, dim1,\n",
        "                     BLOCK_DIM0: tl.constexpr, BLOCK_DIM1: tl.constexpr):\n",
        "  pid_x = tl.program_id(axis=0)\n",
        "  pid_y = tl.program_id(axis=1)\n",
        "  block_start = pid_x * BLOCK_DIM0 * dim1 + pid_y * BLOCK_DIM1\n",
        "  offsets_dim0 = tl.arange(0, BLOCK_DIM0)[:,None]\n",
        "  offsets_dim1 = tl.arange(0, BLOCK_DIM1)[None, :]\n",
        "  offsets = block_start + offsets_dim0 * dim1 + offsets_dim1\n",
        "  print(\"offsets=\", offsets)\n",
        "  masks = (offsets_dim0 < dim0) & (offsets_dim1 < dim1)\n",
        "  x = tl.load(x_ptr + offsets, mask=masks)\n",
        "  y = tl.load(y_ptr + offsets, mask=masks)\n",
        "  output = x + y\n",
        "  tl.store(z_ptr + offsets, output, mask=masks)"
      ]
    },
    {
      "cell_type": "code",
      "execution_count": null,
      "metadata": {
        "id": "yyKcijFAm4Wp"
      },
      "outputs": [],
      "source": [
        "a = torch.randn(128, 128, device=\"cuda\")\n",
        "b = torch.randn(128, 128, device=\"cuda\")\n",
        "c = torch.zeros(128, 128, device=\"cuda\")\n",
        "add_kernel_print[(8, 8)](a, b, c, 128, 128, 16, 16)\n",
        "c_ref = a + b\n",
        "assert torch.allclose(c, c_ref)"
      ]
    },
    {
      "cell_type": "markdown",
      "metadata": {},
      "source": [
        "### Demo 2: pdb"
      ]
    },
    {
      "cell_type": "code",
      "execution_count": null,
      "metadata": {},
      "outputs": [],
      "source": [
        "import pdb\n",
        "\n",
        "@triton.jit\n",
        "def add_kernel_pdb(x_ptr, y_ptr, z_ptr, dim0, dim1,\n",
        "                   BLOCK_DIM0: tl.constexpr, BLOCK_DIM1: tl.constexpr):\n",
        "  pid_x = tl.program_id(axis=0)\n",
        "  pid_y = tl.program_id(axis=1)\n",
        "  block_start = pid_x * BLOCK_DIM0 * dim1 + pid_y * BLOCK_DIM1\n",
        "  offsets_dim0 = tl.arange(0, BLOCK_DIM0)[:,None]\n",
        "  offsets_dim1 = tl.arange(0, BLOCK_DIM1)[None, :]\n",
        "  offsets = block_start + offsets_dim0 * dim1 + offsets_dim1\n",
        "  masks = (offsets_dim0 < dim0) & (offsets_dim1 < dim1)\n",
        "  if pid_x == 0 and pid_y == 0:\n",
        "    pdb.set_trace()\n",
        "  x = tl.load(x_ptr + offsets, mask=masks)\n",
        "  y = tl.load(y_ptr + offsets, mask=masks)\n",
        "  output = x + y\n",
        "  tl.store(z_ptr + offsets, output, mask=masks)"
      ]
    },
    {
      "cell_type": "code",
      "execution_count": null,
      "metadata": {},
      "outputs": [],
      "source": [
        "a = torch.randn(128, 128, device=\"cuda\")\n",
        "b = torch.randn(128, 128, device=\"cuda\")\n",
        "c = torch.zeros(128, 128, device=\"cuda\")\n",
        "add_kernel_pdb[(8, 8)](a, b, c, 128, 128, 16, 16)\n",
        "c_ref = a + b\n",
        "assert torch.allclose(c, c_ref)"
      ]
    },
    {
      "cell_type": "markdown",
      "metadata": {},
      "source": [
        "### Demo 3: Jupyter notebook"
      ]
    },
    {
      "cell_type": "code",
      "execution_count": null,
      "metadata": {},
      "outputs": [],
      "source": [
        "@triton.jit\n",
        "def add_kernel_pdb(x_ptr, y_ptr, z_ptr, dim0, dim1,\n",
        "                   BLOCK_DIM0: tl.constexpr, BLOCK_DIM1: tl.constexpr):\n",
        "  pid_x = tl.program_id(axis=0)\n",
        "  pid_y = tl.program_id(axis=1)\n",
        "  block_start = pid_x * BLOCK_DIM0 * dim1 + pid_y * BLOCK_DIM1\n",
        "  offsets_dim0 = tl.arange(0, BLOCK_DIM0)[:,None]\n",
        "  offsets_dim1 = tl.arange(0, BLOCK_DIM1)[None, :]\n",
        "  offsets = block_start + offsets_dim0 * dim1 + offsets_dim1\n",
        "  masks = (offsets_dim0 < dim0) & (offsets_dim1 < dim1)\n",
        "  x = tl.load(x_ptr + offsets, mask=masks)\n",
        "  y = tl.load(y_ptr + offsets, mask=masks)\n",
        "  output = x + y\n",
        "  tl.store(z_ptr + offsets, output, mask=masks)\n",
        "\n",
        "a = torch.randn(128, 128, device=\"cuda\")\n",
        "b = torch.randn(128, 128, device=\"cuda\")\n",
        "c = torch.zeros(128, 128, device=\"cuda\")\n",
        "add_kernel_pdb[(8, 8)](a, b, c, 128, 128, 16, 16)\n",
        "c_ref = a + b\n",
        "assert torch.allclose(c, c_ref)"
      ]
    },
    {
      "cell_type": "markdown",
      "metadata": {},
      "source": [
        "### Unload the interpreter"
      ]
    },
    {
      "cell_type": "code",
      "execution_count": null,
      "metadata": {},
      "outputs": [],
      "source": [
        "import importlib\n",
        "\n",
        "importlib.reload(tl)"
      ]
    },
    {
      "cell_type": "markdown",
      "metadata": {
        "id": "Zu4TshXtm4tw"
      },
      "source": [
        "# Proton"
      ]
    },
    {
      "cell_type": "markdown",
      "metadata": {},
      "source": [
        "### Import packages"
      ]
    },
    {
      "cell_type": "code",
      "execution_count": 1,
      "metadata": {},
      "outputs": [],
      "source": [
        "import torch\n",
        "import triton\n",
        "import triton.language as tl\n",
        "import triton.profiler as proton"
      ]
    },
    {
      "cell_type": "markdown",
      "metadata": {
        "id": "ilwSTc_rm9vi"
      },
      "source": [
        "### Demo 4: Instrumentation-based profiling"
      ]
    },
    {
      "cell_type": "code",
      "execution_count": 3,
      "metadata": {},
      "outputs": [],
      "source": [
        "@triton.jit\n",
        "def add_kernel(x_ptr, y_ptr, z_ptr, dim0, dim1,\n",
        "               BLOCK_DIM0: tl.constexpr, BLOCK_DIM1: tl.constexpr):\n",
        "  pid_x = tl.program_id(axis=0)\n",
        "  pid_y = tl.program_id(axis=1)\n",
        "  block_start = pid_x * BLOCK_DIM0 * dim1 + pid_y * BLOCK_DIM1\n",
        "  offsets_dim0 = tl.arange(0, BLOCK_DIM0)[:,None]\n",
        "  offsets_dim1 = tl.arange(0, BLOCK_DIM1)[None, :]\n",
        "  offsets = block_start + offsets_dim0 * dim1 + offsets_dim1\n",
        "  masks = (offsets_dim0 < dim0) & (offsets_dim1 < dim1)\n",
        "  x = tl.load(x_ptr + offsets, mask=masks)\n",
        "  y = tl.load(y_ptr + offsets, mask=masks)\n",
        "  output = x + y\n",
        "  tl.store(z_ptr + offsets, output, mask=masks)"
      ]
    },
    {
      "cell_type": "code",
      "execution_count": 3,
      "metadata": {
        "id": "ThUe16gUm6lh"
      },
      "outputs": [],
      "source": [
        "proton.start()\n",
        "a = torch.randn(128, 128, device='cuda')\n",
        "b = torch.randn(128, 128, device='cuda')\n",
        "c = torch.zeros(128, 128, device='cuda')\n",
        "add_kernel[(8, 8)](a, b, c, 128, 128, 16, 16)\n",
        "proton.finalize()\n",
        "c_ref = a + b\n",
        "assert torch.allclose(c, c_ref)"
      ]
    },
    {
      "cell_type": "code",
      "execution_count": 4,
      "metadata": {},
      "outputs": [
        {
          "name": "stdout",
          "output_type": "stream",
          "text": [
            "\u001b[38;5;196m0.014\u001b[0m ROOT\u001b[0m\n",
            "├─ \u001b[38;5;22m0.002\u001b[0m _ZN2at6native29vectorized_elementwise_kernelILi4ENS0_11FillFunctorIfEENS_6detail5ArrayIPcLi1EEEEEviT0_T1_\u001b[0m\n",
            "├─ \u001b[38;5;220m0.010\u001b[0m _ZN2at6native54_GLOBAL__N__d8ceb000_21_DistributionNormal_cu_0c5b6e8543distribution_elementwise_grid_stride_kernelIfLi4EZNS0_9templates4cuda20normal_and_transformIffLm4EPNS_17CUDAGeneratorImplEZZZNS4_13normal_kernelIS7_EEvRKNS_10TensorBaseEddT_ENKUlvE_clEvENKUlvE0_clEvEUlfE_EEvRNS_18TensorIteratorBaseET2_T3_EUlP24curandStatePhilox4_32_10E0_ZNS1_27distribution_nullary_kernelIffLi4ES7_SM_SF_EEvSH_SI_RKSJ_T4_EUlifE_EEviNS_15PhiloxCudaStateET1_SI_\u001b[0m\n",
            "└─ \u001b[38;5;22m0.002\u001b[0m add_kernel\u001b[0m\n",
            "\n",
            "\u001b[4mLegend\u001b[0m (Metric: time/ms (inc) Min: 0.00 Max: 0.01)\n",
            "\u001b[38;5;196m█ \u001b[0m0.01 - 0.01\n",
            "\u001b[38;5;208m█ \u001b[0m0.01 - 0.01\n",
            "\u001b[38;5;220m█ \u001b[0m0.01 - 0.01\n",
            "\u001b[38;5;46m█ \u001b[0m0.01 - 0.01\n",
            "\u001b[38;5;34m█ \u001b[0m0.00 - 0.01\n",
            "\u001b[38;5;22m█ \u001b[0m0.00 - 0.00\n",
            "\n",
            "name\u001b[0m User code    \u001b[38;5;160m◀ \u001b[0m Only in left graph    \u001b[38;5;28m▶ \u001b[0m Only in right graph\n",
            "\n"
          ]
        }
      ],
      "source": [
        "!proton-viewer -m time/ms ./proton.hatchet"
      ]
    },
    {
      "cell_type": "markdown",
      "metadata": {},
      "source": [
        "### Demo 5: Activate/deactivate proton"
      ]
    },
    {
      "cell_type": "code",
      "execution_count": 5,
      "metadata": {},
      "outputs": [],
      "source": [
        "session_id = proton.start()\n",
        "proton.deactivate(session_id)\n",
        "a = torch.randn(128, 128, device='cuda')\n",
        "b = torch.randn(128, 128, device='cuda')\n",
        "c = torch.zeros(128, 128, device='cuda')\n",
        "proton.activate(session_id)\n",
        "add_kernel[(8, 8)](a, b, c, 128, 128, 16, 16)\n",
        "proton.finalize()\n",
        "c_ref = a + b\n",
        "assert torch.allclose(c, c_ref)"
      ]
    },
    {
      "cell_type": "code",
      "execution_count": 6,
      "metadata": {
        "id": "RtuBXF1FnSGl"
      },
      "outputs": [
        {
          "name": "stdout",
          "output_type": "stream",
          "text": [
            "\u001b[38;5;22m0.009\u001b[0m ROOT\u001b[0m\n",
            "└─ \u001b[38;5;22m0.009\u001b[0m add_kernel\u001b[0m\n",
            "\n",
            "\u001b[4mLegend\u001b[0m (Metric: time/ms (inc) Min: 0.01 Max: 0.01)\n",
            "\u001b[38;5;196m█ \u001b[0m0.01 - 0.01\n",
            "\u001b[38;5;208m█ \u001b[0m0.01 - 0.01\n",
            "\u001b[38;5;220m█ \u001b[0m0.01 - 0.01\n",
            "\u001b[38;5;46m█ \u001b[0m0.01 - 0.01\n",
            "\u001b[38;5;34m█ \u001b[0m0.01 - 0.01\n",
            "\u001b[38;5;22m█ \u001b[0m0.01 - 0.01\n",
            "\n",
            "name\u001b[0m User code    \u001b[38;5;160m◀ \u001b[0m Only in left graph    \u001b[38;5;28m▶ \u001b[0m Only in right graph\n",
            "\n"
          ]
        }
      ],
      "source": [
        "!proton-viewer -m time/ms ./proton.hatchet"
      ]
    },
    {
      "cell_type": "markdown",
      "metadata": {},
      "source": [
        "### Demo 6: Profiling using scopes"
      ]
    },
    {
      "cell_type": "code",
      "execution_count": 8,
      "metadata": {},
      "outputs": [],
      "source": [
        "proton.start()\n",
        "\n",
        "def run():\n",
        "  with proton.scope(\"initialization\"):\n",
        "    a = torch.randn(128, 128, device='cuda')\n",
        "    b = torch.randn(128, 128, device='cuda')\n",
        "    c = torch.zeros(128, 128, device='cuda')\n",
        "  with proton.scope(\"add\"):\n",
        "    add_kernel[(8, 8)](a, b, c, 128, 128, 16, 16)\n",
        "\n",
        "for _ in range(10):\n",
        "  run()\n",
        "\n",
        "proton.finalize()\n",
        "c_ref = a + b\n",
        "assert torch.allclose(c, c_ref)"
      ]
    },
    {
      "cell_type": "code",
      "execution_count": 9,
      "metadata": {},
      "outputs": [
        {
          "name": "stderr",
          "output_type": "stream",
          "text": [
            "14382.13s - pydevd: Sending message related to process being replaced timed-out after 5 seconds\n"
          ]
        },
        {
          "name": "stdout",
          "output_type": "stream",
          "text": [
            "\u001b[38;5;196m0.639\u001b[0m ROOT\u001b[0m\n",
            "├─ \u001b[38;5;22m0.090\u001b[0m add\u001b[0m\n",
            "│  └─ \u001b[38;5;22m0.090\u001b[0m add_kernel\u001b[0m\n",
            "└─ \u001b[38;5;208m0.549\u001b[0m initialization\u001b[0m\n",
            "   ├─ \u001b[38;5;22m0.069\u001b[0m _ZN2at6native29vectorized_elementwise_kernelILi4ENS0_11FillFunctorIfEENS_6detail5ArrayIPcLi1EEEEEviT0_T1_\u001b[0m\n",
            "   └─ \u001b[38;5;208m0.480\u001b[0m _ZN2at6native54_GLOBAL__N__d8ceb000_21_DistributionNormal_cu_0c5b6e8543distribution_elementwise_grid_stride_kernelIfLi4EZNS0_9templates4cuda20normal_and_transformIffLm4EPNS_17CUDAGeneratorImplEZZZNS4_13normal_kernelIS7_EEvRKNS_10TensorBaseEddT_ENKUlvE_clEvENKUlvE0_clEvEUlfE_EEvRNS_18TensorIteratorBaseET2_T3_EUlP24curandStatePhilox4_32_10E0_ZNS1_27distribution_nullary_kernelIffLi4ES7_SM_SF_EEvSH_SI_RKSJ_T4_EUlifE_EEviNS_15PhiloxCudaStateET1_SI_\u001b[0m\n",
            "\n",
            "\u001b[4mLegend\u001b[0m (Metric: time/ms (inc) Min: 0.07 Max: 0.64)\n",
            "\u001b[38;5;196m█ \u001b[0m0.58 - 0.64\n",
            "\u001b[38;5;208m█ \u001b[0m0.47 - 0.58\n",
            "\u001b[38;5;220m█ \u001b[0m0.35 - 0.47\n",
            "\u001b[38;5;46m█ \u001b[0m0.24 - 0.35\n",
            "\u001b[38;5;34m█ \u001b[0m0.13 - 0.24\n",
            "\u001b[38;5;22m█ \u001b[0m0.07 - 0.13\n",
            "\n",
            "name\u001b[0m User code    \u001b[38;5;160m◀ \u001b[0m Only in left graph    \u001b[38;5;28m▶ \u001b[0m Only in right graph\n",
            "\n"
          ]
        }
      ],
      "source": [
        "!proton-viewer -m time/ms ./proton.hatchet"
      ]
    },
    {
      "cell_type": "markdown",
      "metadata": {
        "id": "8fl__oZAnL8X"
      },
      "source": [
        "### Demo 7: Profiling with metrics"
      ]
    },
    {
      "cell_type": "code",
      "execution_count": 10,
      "metadata": {},
      "outputs": [],
      "source": [
        "proton.start()\n",
        "\n",
        "def run():\n",
        "  with proton.scope(\"initialization\", metrics={\"bytes\": 128*128*4*3}):\n",
        "    a = torch.randn(128, 128, device='cuda')\n",
        "    b = torch.randn(128, 128, device='cuda')\n",
        "    c = torch.zeros(128, 128, device='cuda')\n",
        "  with proton.scope(\"add\", metrics={\"bytes\": 128*128*4*3}):\n",
        "    add_kernel[(8, 8)](a, b, c, 128, 128, 16, 16)\n",
        "\n",
        "for _ in range(10):\n",
        "  run()\n",
        "\n",
        "proton.finalize()\n",
        "c_ref = a + b\n",
        "assert torch.allclose(c, c_ref)"
      ]
    },
    {
      "cell_type": "code",
      "execution_count": null,
      "metadata": {},
      "outputs": [],
      "source": [
        "!proton-viewer -l ./proton.hatchet"
      ]
    },
    {
      "cell_type": "code",
      "execution_count": 12,
      "metadata": {},
      "outputs": [
        {
          "name": "stderr",
          "output_type": "stream",
          "text": [
            "14728.99s - pydevd: Sending message related to process being replaced timed-out after 5 seconds\n"
          ]
        },
        {
          "name": "stdout",
          "output_type": "stream",
          "text": [
            "\u001b[38;5;34m6.157\u001b[0m \u001b[2m3932160.000\u001b[0m ROOT\u001b[0m\n",
            "├─ \u001b[38;5;196m22.037\u001b[0m \u001b[2m1966080.000\u001b[0m add\u001b[0m\n",
            "└─ \u001b[38;5;22m3.578\u001b[0m \u001b[2m1966080.000\u001b[0m initialization\u001b[0m\n",
            "\n",
            "\u001b[4mLegend\u001b[0m (Metric: gbyte/s (inc) Min: 3.58 Max: 22.04)\n",
            "\u001b[38;5;196m█ \u001b[0m20.19 - 22.04\n",
            "\u001b[38;5;208m█ \u001b[0m16.50 - 20.19\n",
            "\u001b[38;5;220m█ \u001b[0m12.81 - 16.50\n",
            "\u001b[38;5;46m█ \u001b[0m9.12 - 12.81\n",
            "\u001b[38;5;34m█ \u001b[0m5.42 - 9.12\n",
            "\u001b[38;5;22m█ \u001b[0m3.58 - 5.42\n",
            "\n",
            "name\u001b[0m User code    \u001b[38;5;160m◀ \u001b[0m Only in left graph    \u001b[38;5;28m▶ \u001b[0m Only in right graph\n",
            "\n"
          ]
        }
      ],
      "source": [
        "!proton-viewer -m bytes,gbyte/s -d 2 ./proton.hatchet"
      ]
    },
    {
      "cell_type": "code",
      "execution_count": null,
      "metadata": {},
      "outputs": [],
      "source": [
        "!proton-viewer -m gbyte/s,time/ms ./proton.hatchet"
      ]
    },
    {
      "cell_type": "markdown",
      "metadata": {
        "id": "tfaTgmfFnNwv"
      },
      "source": [
        "### Demo 8: Python unwinding"
      ]
    },
    {
      "cell_type": "code",
      "execution_count": null,
      "metadata": {
        "id": "EXQ_qdIYnSz0"
      },
      "outputs": [],
      "source": [
        "proton.start(context=\"python\")\n",
        "\n",
        "def initialization():\n",
        "  a = torch.randn(128, 128, device='cuda')\n",
        "  b = torch.randn(128, 128, device='cuda')\n",
        "  c = torch.zeros(128, 128, device='cuda')\n",
        "  return a, b, c\n",
        "\n",
        "def add(a, b, c):\n",
        "  add_kernel[(8, 8)](a, b, c, 128, 128, 16, 16)\n",
        "\n",
        "a, b, c = initialization()\n",
        "add(a, b, c)\n",
        "\n",
        "proton.finalize()\n",
        "c_ref = a + b\n",
        "assert torch.allclose(c, c_ref)"
      ]
    },
    {
      "cell_type": "code",
      "execution_count": null,
      "metadata": {},
      "outputs": [],
      "source": [
        "!proton-viewer -f function_line -m time/ms ./proton.hatchet"
      ]
    },
    {
      "cell_type": "markdown",
      "metadata": {
        "id": "QB37uR7WnU86"
      },
      "source": [
        "### Demo 9: Matmul flops"
      ]
    },
    {
      "cell_type": "code",
      "execution_count": 2,
      "metadata": {
        "id": "bCbiReZGnXew"
      },
      "outputs": [
        {
          "data": {
            "image/png": "[encoded data removed]",
            "text/plain": [
              "<Figure size 640x480 with 1 Axes>"
            ]
          },
          "metadata": {},
          "output_type": "display_data"
        },
        {
          "name": "stdout",
          "output_type": "stream",
          "text": [
            "matmul-performance:\n",
            "        M       N       K     cuBLAS     Triton\n",
            "0   256.0   256.0   256.0   2.473057   3.216491\n",
            "1   384.0   384.0   384.0   7.442574   6.664678\n",
            "2   512.0   512.0   512.0  12.925436  13.046047\n",
            "3   640.0   640.0   640.0  13.802865  13.693272\n",
            "4   768.0   768.0   768.0  13.783618  15.860814\n",
            "5   896.0   896.0   896.0  14.345148  16.250747\n",
            "6  1024.0  1024.0  1024.0  17.753668  20.444437\n",
            "7  1152.0  1152.0  1152.0  16.350358  17.642447\n"
          ]
        }
      ],
      "source": [
        "import torch\n",
        "\n",
        "import triton\n",
        "import triton.language as tl\n",
        "import triton.profiler as proton\n",
        "from typing import NamedTuple\n",
        "\n",
        "\n",
        "def unpack_grid(grid):\n",
        "  if len(grid) == 1:\n",
        "    return grid[0], 1, 1\n",
        "  if len(grid) == 2:\n",
        "    return grid[0], grid[1], 1\n",
        "  if len(grid) == 3:\n",
        "    return grid[0], grid[1], grid[2]\n",
        "\n",
        "\n",
        "def metadata_fn(\n",
        "  grid: tuple,\n",
        "  metadata: NamedTuple,\n",
        "  args: dict,\n",
        "):\n",
        "  grid_x, grid_y, grid_z = unpack_grid(grid)\n",
        "  num_warps = metadata.num_warps\n",
        "  num_stages = metadata.num_stages\n",
        "  cluster_x, cluster_y, cluster_z = metadata.cluster_dims\n",
        "  shared_memory = metadata.shared\n",
        "  M, K = args[\"a_ptr\"].shape\n",
        "  K, N = args[\"b_ptr\"].shape\n",
        "  return {\n",
        "    \"name\":\n",
        "    f\"matmul_<grid:{grid_x}x{grid_y}x{grid_z}>_<cluster:{cluster_x}x{cluster_y}x{cluster_z}>_<warps:{num_warps}>_<shared:{shared_memory}>_<stages:{num_stages}>\",\n",
        "    \"flops\": 2 * M * N * K,\n",
        "    \"bytes\": (M * N + N * K + K * M) * args[\"a_ptr\"].element_size(),\n",
        "  }\n",
        "\n",
        "\n",
        "@triton.autotune(\n",
        "  configs=[\n",
        "    triton.Config(\n",
        "      {\n",
        "        \"BLOCK_SIZE_M\": 128,\n",
        "        \"BLOCK_SIZE_N\": 256,\n",
        "        \"BLOCK_SIZE_K\": 64,\n",
        "        \"GROUP_SIZE_M\": 8,\n",
        "      },\n",
        "      num_stages=3,\n",
        "      num_warps=8,\n",
        "    ),\n",
        "    triton.Config(\n",
        "      {\n",
        "        \"BLOCK_SIZE_M\": 64,\n",
        "        \"BLOCK_SIZE_N\": 256,\n",
        "        \"BLOCK_SIZE_K\": 32,\n",
        "        \"GROUP_SIZE_M\": 8,\n",
        "      },\n",
        "      num_stages=4,\n",
        "      num_warps=4,\n",
        "    ),\n",
        "    triton.Config(\n",
        "      {\n",
        "        \"BLOCK_SIZE_M\": 128,\n",
        "        \"BLOCK_SIZE_N\": 128,\n",
        "        \"BLOCK_SIZE_K\": 32,\n",
        "        \"GROUP_SIZE_M\": 8,\n",
        "      },\n",
        "      num_stages=4,\n",
        "      num_warps=4,\n",
        "    ),\n",
        "    triton.Config(\n",
        "      {\n",
        "        \"BLOCK_SIZE_M\": 128,\n",
        "        \"BLOCK_SIZE_N\": 64,\n",
        "        \"BLOCK_SIZE_K\": 32,\n",
        "        \"GROUP_SIZE_M\": 8,\n",
        "      },\n",
        "      num_stages=4,\n",
        "      num_warps=4,\n",
        "    ),\n",
        "    triton.Config(\n",
        "      {\n",
        "        \"BLOCK_SIZE_M\": 64,\n",
        "        \"BLOCK_SIZE_N\": 128,\n",
        "        \"BLOCK_SIZE_K\": 32,\n",
        "        \"GROUP_SIZE_M\": 8,\n",
        "      },\n",
        "      num_stages=4,\n",
        "      num_warps=4,\n",
        "    ),\n",
        "    triton.Config(\n",
        "      {\n",
        "        \"BLOCK_SIZE_M\": 128,\n",
        "        \"BLOCK_SIZE_N\": 32,\n",
        "        \"BLOCK_SIZE_K\": 32,\n",
        "        \"GROUP_SIZE_M\": 8,\n",
        "      },\n",
        "      num_stages=4,\n",
        "      num_warps=4,\n",
        "    ),\n",
        "    triton.Config(\n",
        "      {\n",
        "        \"BLOCK_SIZE_M\": 64,\n",
        "        \"BLOCK_SIZE_N\": 32,\n",
        "        \"BLOCK_SIZE_K\": 32,\n",
        "        \"GROUP_SIZE_M\": 8,\n",
        "      },\n",
        "      num_stages=5,\n",
        "      num_warps=2,\n",
        "    ),\n",
        "    triton.Config(\n",
        "      {\n",
        "        \"BLOCK_SIZE_M\": 32,\n",
        "        \"BLOCK_SIZE_N\": 64,\n",
        "        \"BLOCK_SIZE_K\": 32,\n",
        "        \"GROUP_SIZE_M\": 8,\n",
        "      },\n",
        "      num_stages=5,\n",
        "      num_warps=2,\n",
        "    ),\n",
        "  ],\n",
        "  key=[\"M\", \"N\", \"K\"],\n",
        ")\n",
        "@triton.jit(launch_metadata=metadata_fn)\n",
        "def matmul_kernel(\n",
        "    # Pointers to matrices\n",
        "    a_ptr, b_ptr, c_ptr,\n",
        "    # Matrix dimensions\n",
        "    M, N, K,\n",
        "    # The stride variables represent how much to increase the ptr by when moving by 1\n",
        "    # element in a particular dimension. E.g. `stride_am` is how much to increase `a_ptr`\n",
        "    # by to get the element one row down (A has M rows).\n",
        "    stride_am, stride_ak,  #\n",
        "    stride_bk, stride_bn,  #\n",
        "    stride_cm, stride_cn,\n",
        "    # Meta-parameters\n",
        "    BLOCK_SIZE_M: tl.constexpr, BLOCK_SIZE_N: tl.constexpr, BLOCK_SIZE_K: tl.constexpr,  #\n",
        "    GROUP_SIZE_M: tl.constexpr,  #\n",
        "    ACTIVATION: tl.constexpr,  #\n",
        "):\n",
        "  \"\"\"Kernel for computing the matmul C = A x B.\n",
        "  A has shape (M, K), B has shape (K, N) and C has shape (M, N)\n",
        "  \"\"\"\n",
        "  # -----------------------------------------------------------\n",
        "  # Map program ids `pid` to the block of C it should compute.\n",
        "  # This is done in a grouped ordering to promote L2 data reuse.\n",
        "  # See above `L2 Cache Optimizations` section for details.\n",
        "  pid = tl.program_id(axis=0)\n",
        "  num_pid_m = tl.cdiv(M, BLOCK_SIZE_M)\n",
        "  num_pid_n = tl.cdiv(N, BLOCK_SIZE_N)\n",
        "  num_pid_in_group = GROUP_SIZE_M * num_pid_n\n",
        "  group_id = pid // num_pid_in_group\n",
        "  first_pid_m = group_id * GROUP_SIZE_M\n",
        "  group_size_m = min(num_pid_m - first_pid_m, GROUP_SIZE_M)\n",
        "  pid_m = first_pid_m + (pid % group_size_m)\n",
        "  pid_n = (pid % num_pid_in_group) // group_size_m\n",
        "\n",
        "  # ----------------------------------------------------------\n",
        "  # Create pointers for the first blocks of A and B.\n",
        "  # We will advance this pointer as we move in the K direction\n",
        "  # and accumulate\n",
        "  # `a_ptrs` is a block of [BLOCK_SIZE_M, BLOCK_SIZE_K] pointers\n",
        "  # `b_ptrs` is a block of [BLOCK_SIZE_K, BLOCK_SIZE_N] pointers\n",
        "  # See above `Pointer Arithmetic` section for details\n",
        "  offs_am = (pid_m * BLOCK_SIZE_M + tl.arange(0, BLOCK_SIZE_M)) % M\n",
        "  offs_bn = (pid_n * BLOCK_SIZE_N + tl.arange(0, BLOCK_SIZE_N)) % N\n",
        "  offs_k = tl.arange(0, BLOCK_SIZE_K)\n",
        "  a_ptrs = a_ptr + (offs_am[:, None] * stride_am + offs_k[None, :] * stride_ak)\n",
        "  b_ptrs = b_ptr + (offs_k[:, None] * stride_bk + offs_bn[None, :] * stride_bn)\n",
        "\n",
        "  # -----------------------------------------------------------\n",
        "  # Iterate to compute a block of the C matrix.\n",
        "  # We accumulate into a `[BLOCK_SIZE_M, BLOCK_SIZE_N]` block\n",
        "  # of fp32 values for higher accuracy.\n",
        "  # `accumulator` will be converted back to fp16 after the loop.\n",
        "  accumulator = tl.zeros((BLOCK_SIZE_M, BLOCK_SIZE_N), dtype=tl.float32)\n",
        "  for k in range(0, tl.cdiv(K, BLOCK_SIZE_K)):\n",
        "    # Load the next block of A and B, generate a mask by checking the K dimension.\n",
        "    # If it is out of bounds, set it to 0.\n",
        "    a = tl.load(a_ptrs, mask=offs_k[None, :] < K - k * BLOCK_SIZE_K, other=0.0)\n",
        "    b = tl.load(b_ptrs, mask=offs_k[:, None] < K - k * BLOCK_SIZE_K, other=0.0)\n",
        "    # We accumulate along the K dimension.\n",
        "    accumulator += tl.dot(a, b)\n",
        "    # Advance the ptrs to the next K block.\n",
        "    a_ptrs += BLOCK_SIZE_K * stride_ak\n",
        "    b_ptrs += BLOCK_SIZE_K * stride_bk\n",
        "  # You can fuse arbitrary activation functions here\n",
        "  # while the accumulator is still in FP32!\n",
        "  if ACTIVATION == \"leaky_relu\":\n",
        "    accumulator = leaky_relu(accumulator)\n",
        "  c = accumulator.to(tl.float16)\n",
        "\n",
        "  # -----------------------------------------------------------\n",
        "  # Write back the block of the output matrix C with masks.\n",
        "  offs_cm = pid_m * BLOCK_SIZE_M + tl.arange(0, BLOCK_SIZE_M)\n",
        "  offs_cn = pid_n * BLOCK_SIZE_N + tl.arange(0, BLOCK_SIZE_N)\n",
        "  c_ptrs = c_ptr + stride_cm * offs_cm[:, None] + stride_cn * offs_cn[None, :]\n",
        "  c_mask = (offs_cm[:, None] < M) & (offs_cn[None, :] < N)\n",
        "  tl.store(c_ptrs, c, mask=c_mask)\n",
        "\n",
        "\n",
        "# We can fuse `leaky_relu` by providing it as an `ACTIVATION` meta-parameter in `_matmul`.\n",
        "@triton.jit\n",
        "def leaky_relu(x):\n",
        "  x = x + 1\n",
        "  return tl.where(x >= 0, x, 0.01 * x)\n",
        "\n",
        "\n",
        "def matmul(a, b, activation=\"\"):\n",
        "  # Check constraints.\n",
        "  assert a.shape[1] == b.shape[0], \"Incompatible dimensions\"\n",
        "  assert a.is_contiguous(), \"Matrix A must be contiguous\"\n",
        "  assert b.is_contiguous(), \"Matrix B must be contiguous\"\n",
        "  M, K = a.shape\n",
        "  K, N = b.shape\n",
        "  # Allocates output.\n",
        "  c = torch.empty((M, N), device=a.device, dtype=a.dtype)\n",
        "\n",
        "  # 1D launch kernel where each block gets its own program.\n",
        "  def grid(META):\n",
        "    return (triton.cdiv(M, META[\"BLOCK_SIZE_M\"]) * triton.cdiv(N, META[\"BLOCK_SIZE_N\"]), )\n",
        "\n",
        "  matmul_kernel[grid](\n",
        "    a, b, c,  #\n",
        "    M, N, K,  #\n",
        "    a.stride(0), a.stride(1),  #\n",
        "    b.stride(0), b.stride(1),  #\n",
        "    c.stride(0), c.stride(1),  #\n",
        "    ACTIVATION=activation,  #\n",
        "  )\n",
        "  return c\n",
        "\n",
        "\n",
        "\n",
        "@triton.testing.perf_report(\n",
        "  triton.testing.Benchmark(\n",
        "    x_names=[\"M\", \"N\", \"K\"],  # Argument names to use as an x-axis for the plot\n",
        "    x_vals=[128 * i for i in range(2, 10)],  # Different possible values for `x_name`\n",
        "    line_arg=\"provider\",  # Argument name whose value corresponds to a different line in the plot\n",
        "    # Possible values for `line_arg`\n",
        "    line_vals=[\"cublas\", \"triton\"],\n",
        "    # Label name for the lines\n",
        "    line_names=[\"cuBLAS\", \"Triton\"],\n",
        "    # Line styles\n",
        "    styles=[(\"green\", \"-\"), (\"blue\", \"-\")],\n",
        "    ylabel=\"TFLOPS\",  # Label name for the y-axis\n",
        "    plot_name=\"matmul-performance\",  # Name for the plot, used also as a file name for saving the plot.\n",
        "    args={},\n",
        "  ))\n",
        "def benchmark(M, N, K, provider):\n",
        "  a = torch.randn((M, K), device=\"cuda\", dtype=torch.float16)\n",
        "  b = torch.randn((K, N), device=\"cuda\", dtype=torch.float16)\n",
        "  quantiles = [0.5, 0.2, 0.8]\n",
        "  with proton.scope(f\"matmul_{M}_{N}_{K}\"):\n",
        "    if provider == \"cublas\":\n",
        "\n",
        "      @proton.scope(\n",
        "        \"cublas\",\n",
        "        metrics={\n",
        "          \"flops\": 2 * M * N * K,\n",
        "          \"bytes\": (M * N + N * K + K * M) * a.element_size(),\n",
        "        },\n",
        "      )\n",
        "      def cublas_matmul(a, b):\n",
        "        torch.matmul(a, b)\n",
        "\n",
        "      ms, min_ms, max_ms = triton.testing.do_bench(lambda: cublas_matmul(a, b), quantiles=quantiles)\n",
        "    if provider == \"triton\":\n",
        "\n",
        "      def enter_autotune(args, reset_only=False):\n",
        "        if reset_only:\n",
        "          return\n",
        "        proton.enter_scope(\"<autotune>\")\n",
        "\n",
        "      def exit_autotune(args, exception):\n",
        "        proton.exit_scope()\n",
        "\n",
        "      matmul_kernel.pre_hook = enter_autotune\n",
        "      matmul_kernel.post_hook = exit_autotune\n",
        "      with proton.scope(\"triton\"):\n",
        "        ms, min_ms, max_ms = triton.testing.do_bench(lambda: matmul(a, b), quantiles=quantiles)\n",
        "\n",
        "  def perf(ms):\n",
        "    return 2 * M * N * K * 1e-12 / (ms * 1e-3)\n",
        "\n",
        "  return perf(ms), perf(max_ms), perf(min_ms)\n",
        "\n",
        "proton.start(\"matmul\", hook=\"triton\")\n",
        "benchmark.run(show_plots=True, print_data=True)\n",
        "proton.finalize()"
      ]
    },
    {
      "cell_type": "code",
      "execution_count": null,
      "metadata": {},
      "outputs": [],
      "source": [
        "!proton-viewer -m tflop/s -i \".*cublas.*\" ./matmul.hatchet"
      ]
    },
    {
      "cell_type": "markdown",
      "metadata": {},
      "source": [
        "### Demo 10: Triton hooks"
      ]
    },
    {
      "cell_type": "code",
      "execution_count": 5,
      "metadata": {},
      "outputs": [
        {
          "name": "stdout",
          "output_type": "stream",
          "text": [
            "\u001b[38;5;196m8635.151\u001b[0m ROOT\u001b[0m\n",
            "├─ \u001b[38;5;34m1090.280\u001b[0m matmul_1024_1024_1024\u001b[0m\n",
            "│  └─ \u001b[38;5;34m981.306\u001b[0m triton\u001b[0m\n",
            "│     ├─ \u001b[38;5;22m90.695\u001b[0m <autotune>\u001b[0m\n",
            "│     │  ├─ \u001b[38;5;22m18.325\u001b[0m matmul_<grid:128x1x1>_<cluster:1x1x1>_<warps:4>_<shared:36864>_<stages:4>\u001b[0m\n",
            "│     │  ├─ \u001b[38;5;22m14.102\u001b[0m matmul_<grid:256x1x1>_<cluster:1x1x1>_<warps:4>_<shared:30720>_<stages:4>\u001b[0m\n",
            "│     │  ├─ \u001b[38;5;22m8.593\u001b[0m matmul_<grid:32x1x1>_<cluster:1x1x1>_<warps:8>_<shared:98304>_<stages:3>\u001b[0m\n",
            "│     │  ├─ \u001b[38;5;22m32.475\u001b[0m matmul_<grid:512x1x1>_<cluster:1x1x1>_<warps:2>_<shared:24576>_<stages:5>\u001b[0m\n",
            "│     │  ├─ \u001b[38;5;22m8.307\u001b[0m matmul_<grid:64x1x1>_<cluster:1x1x1>_<warps:4>_<shared:49152>_<stages:4>\u001b[0m\n",
            "│     │  └─ \u001b[38;5;22m8.893\u001b[0m matmul_<grid:64x1x1>_<cluster:1x1x1>_<warps:4>_<shared:61440>_<stages:4>\u001b[0m\n",
            "│     ├─ \u001b[38;5;34m882.505\u001b[0m _ZN2at6native29vectorized_elementwise_kernelILi4ENS0_11FillFunctorIiEENS_6detail5ArrayIPcLi1EEEEEviT0_T1_\u001b[0m\n",
            "│     └─ \u001b[38;5;22m8.106\u001b[0m matmul_<grid:64x1x1>_<cluster:1x1x1>_<warps:4>_<shared:49152>_<stages:4>\u001b[0m\n",
            "├─ \u001b[38;5;34m1104.636\u001b[0m matmul_1152_1152_1152\u001b[0m\n",
            "│  └─ \u001b[38;5;34m994.048\u001b[0m triton\u001b[0m\n",
            "│     ├─ \u001b[38;5;22m134.044\u001b[0m <autotune>\u001b[0m\n",
            "│     │  ├─ \u001b[38;5;22m26.831\u001b[0m matmul_<grid:162x1x1>_<cluster:1x1x1>_<warps:4>_<shared:36864>_<stages:4>\u001b[0m\n",
            "│     │  ├─ \u001b[38;5;22m19.744\u001b[0m matmul_<grid:324x1x1>_<cluster:1x1x1>_<warps:4>_<shared:30720>_<stages:4>\u001b[0m\n",
            "│     │  ├─ \u001b[38;5;22m14.050\u001b[0m matmul_<grid:45x1x1>_<cluster:1x1x1>_<warps:8>_<shared:98304>_<stages:3>\u001b[0m\n",
            "│     │  ├─ \u001b[38;5;22m45.961\u001b[0m matmul_<grid:648x1x1>_<cluster:1x1x1>_<warps:2>_<shared:24576>_<stages:5>\u001b[0m\n",
            "│     │  ├─ \u001b[38;5;22m13.311\u001b[0m matmul_<grid:81x1x1>_<cluster:1x1x1>_<warps:4>_<shared:49152>_<stages:4>\u001b[0m\n",
            "│     │  └─ \u001b[38;5;22m14.147\u001b[0m matmul_<grid:90x1x1>_<cluster:1x1x1>_<warps:4>_<shared:61440>_<stages:4>\u001b[0m\n",
            "│     ├─ \u001b[38;5;22m846.584\u001b[0m _ZN2at6native29vectorized_elementwise_kernelILi4ENS0_11FillFunctorIiEENS_6detail5ArrayIPcLi1EEEEEviT0_T1_\u001b[0m\n",
            "│     └─ \u001b[38;5;22m13.419\u001b[0m matmul_<grid:162x1x1>_<cluster:1x1x1>_<warps:4>_<shared:36864>_<stages:4>\u001b[0m\n",
            "├─ \u001b[38;5;34m1063.868\u001b[0m matmul_256_256_256\u001b[0m\n",
            "│  └─ \u001b[38;5;34m957.232\u001b[0m triton\u001b[0m\n",
            "│     ├─ \u001b[38;5;22m5.535\u001b[0m <autotune>\u001b[0m\n",
            "│     │  ├─ \u001b[38;5;22m0.502\u001b[0m matmul_<grid:16x1x1>_<cluster:1x1x1>_<warps:4>_<shared:30720>_<stages:4>\u001b[0m\n",
            "│     │  ├─ \u001b[38;5;22m1.421\u001b[0m matmul_<grid:2x1x1>_<cluster:1x1x1>_<warps:8>_<shared:98304>_<stages:3>\u001b[0m\n",
            "│     │  ├─ \u001b[38;5;22m0.988\u001b[0m matmul_<grid:32x1x1>_<cluster:1x1x1>_<warps:2>_<shared:24576>_<stages:5>\u001b[0m\n",
            "│     │  ├─ \u001b[38;5;22m0.791\u001b[0m matmul_<grid:4x1x1>_<cluster:1x1x1>_<warps:4>_<shared:49152>_<stages:4>\u001b[0m\n",
            "│     │  ├─ \u001b[38;5;22m0.791\u001b[0m matmul_<grid:4x1x1>_<cluster:1x1x1>_<warps:4>_<shared:61440>_<stages:4>\u001b[0m\n",
            "│     │  └─ \u001b[38;5;22m1.041\u001b[0m matmul_<grid:8x1x1>_<cluster:1x1x1>_<warps:4>_<shared:36864>_<stages:4>\u001b[0m\n",
            "│     ├─ \u001b[38;5;34m951.187\u001b[0m _ZN2at6native29vectorized_elementwise_kernelILi4ENS0_11FillFunctorIiEENS_6detail5ArrayIPcLi1EEEEEviT0_T1_\u001b[0m\n",
            "│     └─ \u001b[38;5;22m0.509\u001b[0m matmul_<grid:32x1x1>_<cluster:1x1x1>_<warps:2>_<shared:24576>_<stages:5>\u001b[0m\n",
            "├─ \u001b[38;5;34m1068.928\u001b[0m matmul_384_384_384\u001b[0m\n",
            "│  └─ \u001b[38;5;34m962.133\u001b[0m triton\u001b[0m\n",
            "│     ├─ \u001b[38;5;22m9.886\u001b[0m <autotune>\u001b[0m\n",
            "│     │  ├─ \u001b[38;5;22m1.080\u001b[0m matmul_<grid:12x1x1>_<cluster:1x1x1>_<warps:4>_<shared:61440>_<stages:4>\u001b[0m\n",
            "│     │  ├─ \u001b[38;5;22m2.132\u001b[0m matmul_<grid:18x1x1>_<cluster:1x1x1>_<warps:4>_<shared:36864>_<stages:4>\u001b[0m\n",
            "│     │  ├─ \u001b[38;5;22m1.143\u001b[0m matmul_<grid:36x1x1>_<cluster:1x1x1>_<warps:4>_<shared:30720>_<stages:4>\u001b[0m\n",
            "│     │  ├─ \u001b[38;5;22m1.859\u001b[0m matmul_<grid:6x1x1>_<cluster:1x1x1>_<warps:8>_<shared:98304>_<stages:3>\u001b[0m\n",
            "│     │  ├─ \u001b[38;5;22m2.580\u001b[0m matmul_<grid:72x1x1>_<cluster:1x1x1>_<warps:2>_<shared:24576>_<stages:5>\u001b[0m\n",
            "│     │  └─ \u001b[38;5;22m1.092\u001b[0m matmul_<grid:9x1x1>_<cluster:1x1x1>_<warps:4>_<shared:49152>_<stages:4>\u001b[0m\n",
            "│     ├─ \u001b[38;5;34m951.178\u001b[0m _ZN2at6native29vectorized_elementwise_kernelILi4ENS0_11FillFunctorIiEENS_6detail5ArrayIPcLi1EEEEEviT0_T1_\u001b[0m\n",
            "│     └─ \u001b[38;5;22m1.069\u001b[0m matmul_<grid:18x1x1>_<cluster:1x1x1>_<warps:4>_<shared:36864>_<stages:4>\u001b[0m\n",
            "├─ \u001b[38;5;34m1069.595\u001b[0m matmul_512_512_512\u001b[0m\n",
            "│  └─ \u001b[38;5;34m962.367\u001b[0m triton\u001b[0m\n",
            "│     ├─ \u001b[38;5;22m14.668\u001b[0m <autotune>\u001b[0m\n",
            "│     │  ├─ \u001b[38;5;22m4.689\u001b[0m matmul_<grid:128x1x1>_<cluster:1x1x1>_<warps:2>_<shared:24576>_<stages:5>\u001b[0m\n",
            "│     │  ├─ \u001b[38;5;22m1.345\u001b[0m matmul_<grid:16x1x1>_<cluster:1x1x1>_<warps:4>_<shared:49152>_<stages:4>\u001b[0m\n",
            "│     │  ├─ \u001b[38;5;22m1.360\u001b[0m matmul_<grid:16x1x1>_<cluster:1x1x1>_<warps:4>_<shared:61440>_<stages:4>\u001b[0m\n",
            "│     │  ├─ \u001b[38;5;22m2.866\u001b[0m matmul_<grid:32x1x1>_<cluster:1x1x1>_<warps:4>_<shared:36864>_<stages:4>\u001b[0m\n",
            "│     │  ├─ \u001b[38;5;22m2.068\u001b[0m matmul_<grid:64x1x1>_<cluster:1x1x1>_<warps:4>_<shared:30720>_<stages:4>\u001b[0m\n",
            "│     │  └─ \u001b[38;5;22m2.340\u001b[0m matmul_<grid:8x1x1>_<cluster:1x1x1>_<warps:8>_<shared:98304>_<stages:3>\u001b[0m\n",
            "│     ├─ \u001b[38;5;34m946.327\u001b[0m _ZN2at6native29vectorized_elementwise_kernelILi4ENS0_11FillFunctorIiEENS_6detail5ArrayIPcLi1EEEEEviT0_T1_\u001b[0m\n",
            "│     └─ \u001b[38;5;22m1.371\u001b[0m matmul_<grid:16x1x1>_<cluster:1x1x1>_<warps:4>_<shared:49152>_<stages:4>\u001b[0m\n",
            "├─ \u001b[38;5;34m1071.490\u001b[0m matmul_640_640_640\u001b[0m\n",
            "│  └─ \u001b[38;5;34m964.310\u001b[0m triton\u001b[0m\n",
            "│     ├─ \u001b[38;5;22m27.664\u001b[0m <autotune>\u001b[0m\n",
            "│     │  ├─ \u001b[38;5;22m3.853\u001b[0m matmul_<grid:100x1x1>_<cluster:1x1x1>_<warps:4>_<shared:30720>_<stages:4>\u001b[0m\n",
            "│     │  ├─ \u001b[38;5;22m2.944\u001b[0m matmul_<grid:15x1x1>_<cluster:1x1x1>_<warps:8>_<shared:98304>_<stages:3>\u001b[0m\n",
            "│     │  ├─ \u001b[38;5;22m8.943\u001b[0m matmul_<grid:200x1x1>_<cluster:1x1x1>_<warps:2>_<shared:24576>_<stages:5>\u001b[0m\n",
            "│     │  ├─ \u001b[38;5;22m2.870\u001b[0m matmul_<grid:25x1x1>_<cluster:1x1x1>_<warps:4>_<shared:49152>_<stages:4>\u001b[0m\n",
            "│     │  ├─ \u001b[38;5;22m3.049\u001b[0m matmul_<grid:30x1x1>_<cluster:1x1x1>_<warps:4>_<shared:61440>_<stages:4>\u001b[0m\n",
            "│     │  └─ \u001b[38;5;22m6.005\u001b[0m matmul_<grid:50x1x1>_<cluster:1x1x1>_<warps:4>_<shared:36864>_<stages:4>\u001b[0m\n",
            "│     ├─ \u001b[38;5;34m933.794\u001b[0m _ZN2at6native29vectorized_elementwise_kernelILi4ENS0_11FillFunctorIiEENS_6detail5ArrayIPcLi1EEEEEviT0_T1_\u001b[0m\n",
            "│     └─ \u001b[38;5;22m2.852\u001b[0m matmul_<grid:25x1x1>_<cluster:1x1x1>_<warps:4>_<shared:49152>_<stages:4>\u001b[0m\n",
            "├─ \u001b[38;5;34m1079.201\u001b[0m matmul_768_768_768\u001b[0m\n",
            "│  └─ \u001b[38;5;34m971.458\u001b[0m triton\u001b[0m\n",
            "│     ├─ \u001b[38;5;22m45.814\u001b[0m <autotune>\u001b[0m\n",
            "│     │  ├─ \u001b[38;5;22m6.019\u001b[0m matmul_<grid:144x1x1>_<cluster:1x1x1>_<warps:4>_<shared:30720>_<stages:4>\u001b[0m\n",
            "│     │  ├─ \u001b[38;5;22m6.498\u001b[0m matmul_<grid:18x1x1>_<cluster:1x1x1>_<warps:8>_<shared:98304>_<stages:3>\u001b[0m\n",
            "│     │  ├─ \u001b[38;5;22m14.614\u001b[0m matmul_<grid:288x1x1>_<cluster:1x1x1>_<warps:2>_<shared:24576>_<stages:5>\u001b[0m\n",
            "│     │  ├─ \u001b[38;5;22m4.712\u001b[0m matmul_<grid:36x1x1>_<cluster:1x1x1>_<warps:4>_<shared:49152>_<stages:4>\u001b[0m\n",
            "│     │  ├─ \u001b[38;5;22m5.063\u001b[0m matmul_<grid:36x1x1>_<cluster:1x1x1>_<warps:4>_<shared:61440>_<stages:4>\u001b[0m\n",
            "│     │  └─ \u001b[38;5;22m8.909\u001b[0m matmul_<grid:72x1x1>_<cluster:1x1x1>_<warps:4>_<shared:36864>_<stages:4>\u001b[0m\n",
            "│     ├─ \u001b[38;5;34m921.239\u001b[0m _ZN2at6native29vectorized_elementwise_kernelILi4ENS0_11FillFunctorIiEENS_6detail5ArrayIPcLi1EEEEEviT0_T1_\u001b[0m\n",
            "│     └─ \u001b[38;5;22m4.405\u001b[0m matmul_<grid:72x1x1>_<cluster:1x1x1>_<warps:4>_<shared:36864>_<stages:4>\u001b[0m\n",
            "└─ \u001b[38;5;34m1086.579\u001b[0m matmul_896_896_896\u001b[0m\n",
            "   └─ \u001b[38;5;34m977.688\u001b[0m triton\u001b[0m\n",
            "      ├─ \u001b[38;5;22m68.309\u001b[0m <autotune>\u001b[0m\n",
            "      │  ├─ \u001b[38;5;22m9.473\u001b[0m matmul_<grid:196x1x1>_<cluster:1x1x1>_<warps:4>_<shared:30720>_<stages:4>\u001b[0m\n",
            "      │  ├─ \u001b[38;5;22m7.762\u001b[0m matmul_<grid:28x1x1>_<cluster:1x1x1>_<warps:8>_<shared:98304>_<stages:3>\u001b[0m\n",
            "      │  ├─ \u001b[38;5;22m22.369\u001b[0m matmul_<grid:392x1x1>_<cluster:1x1x1>_<warps:2>_<shared:24576>_<stages:5>\u001b[0m\n",
            "      │  ├─ \u001b[38;5;22m7.066\u001b[0m matmul_<grid:49x1x1>_<cluster:1x1x1>_<warps:4>_<shared:49152>_<stages:4>\u001b[0m\n",
            "      │  ├─ \u001b[38;5;22m7.718\u001b[0m matmul_<grid:56x1x1>_<cluster:1x1x1>_<warps:4>_<shared:61440>_<stages:4>\u001b[0m\n",
            "      │  └─ \u001b[38;5;22m13.920\u001b[0m matmul_<grid:98x1x1>_<cluster:1x1x1>_<warps:4>_<shared:36864>_<stages:4>\u001b[0m\n",
            "      ├─ \u001b[38;5;34m902.571\u001b[0m _ZN2at6native29vectorized_elementwise_kernelILi4ENS0_11FillFunctorIiEENS_6detail5ArrayIPcLi1EEEEEviT0_T1_\u001b[0m\n",
            "      └─ \u001b[38;5;22m6.809\u001b[0m matmul_<grid:98x1x1>_<cluster:1x1x1>_<warps:4>_<shared:36864>_<stages:4>\u001b[0m\n",
            "\n",
            "\u001b[4mLegend\u001b[0m (Metric: time/ms (inc) Min: 0.50 Max: 8635.15)\n",
            "\u001b[38;5;196m█ \u001b[0m7771.69 - 8635.15\n",
            "\u001b[38;5;208m█ \u001b[0m6044.76 - 7771.69\n",
            "\u001b[38;5;220m█ \u001b[0m4317.83 - 6044.76\n",
            "\u001b[38;5;46m█ \u001b[0m2590.90 - 4317.83\n",
            "\u001b[38;5;34m█ \u001b[0m863.97 - 2590.90\n",
            "\u001b[38;5;22m█ \u001b[0m0.50 - 863.97\n",
            "\n",
            "name\u001b[0m User code    \u001b[38;5;160m◀ \u001b[0m Only in left graph    \u001b[38;5;28m▶ \u001b[0m Only in right graph\n",
            "\n"
          ]
        },
        {
          "ename": "",
          "evalue": "",
          "output_type": "error",
          "traceback": [
            "\u001b[1;31mThe Kernel crashed while executing code in the current cell or a previous cell. \n",
            "\u001b[1;31mPlease review the code in the cell(s) to identify a possible cause of the failure. \n",
            "\u001b[1;31mClick <a href='https://aka.ms/vscodeJupyterKernelCrash'>here</a> for more info. \n",
            "\u001b[1;31mView Jupyter <a href='command:jupyter.viewOutput'>log</a> for further details."
          ]
        }
      ],
      "source": [
        "!proton-viewer -m time/ms -i \".*triton.*\" ./matmul.hatchet"
      ]
    },
    {
      "cell_type": "markdown",
      "metadata": {
        "id": "nEpIhpAYnbiT"
      },
      "source": [
        "### Demo 11: Roofline-based utilization"
      ]
    },
    {
      "cell_type": "code",
      "execution_count": null,
      "metadata": {
        "id": "LtdnVDnvnd13"
      },
      "outputs": [],
      "source": [
        "!proton-viewer -m util,tflop/s -i \".*triton.*\" ./matmul.hatchet"
      ]
    },
    {
      "cell_type": "markdown",
      "metadata": {
        "id": "tcWDx_4mnoVp"
      },
      "source": [
        "### Demo 12: Instruction sampling"
      ]
    },
    {
      "cell_type": "code",
      "execution_count": 3,
      "metadata": {
        "id": "UPeKwvdKnswD"
      },
      "outputs": [
        {
          "name": "stdout",
          "output_type": "stream",
          "text": [
            "[PROTON] Start PC sampling for scopeId: 41101\n"
          ]
        },
        {
          "ename": "RuntimeError",
          "evalue": "Failed to execute cuptiPCSamplingStart with error 26",
          "output_type": "error",
          "traceback": [
            "\u001b[0;31m---------------------------------------------------------------------------\u001b[0m",
            "\u001b[0;31mRuntimeError\u001b[0m                              Traceback (most recent call last)",
            "Cell \u001b[0;32mIn[3], line 2\u001b[0m\n\u001b[1;32m      1\u001b[0m proton\u001b[38;5;241m.\u001b[39mstart(\u001b[38;5;124m\"\u001b[39m\u001b[38;5;124mmatmul\u001b[39m\u001b[38;5;124m\"\u001b[39m, backend\u001b[38;5;241m=\u001b[39m\u001b[38;5;124m\"\u001b[39m\u001b[38;5;124mcupti_pcsampling\u001b[39m\u001b[38;5;124m\"\u001b[39m, hook\u001b[38;5;241m=\u001b[39m\u001b[38;5;124m\"\u001b[39m\u001b[38;5;124mtriton\u001b[39m\u001b[38;5;124m\"\u001b[39m)\n\u001b[0;32m----> 2\u001b[0m \u001b[43mbenchmark\u001b[49m\u001b[38;5;241;43m.\u001b[39;49m\u001b[43mrun\u001b[49m\u001b[43m(\u001b[49m\u001b[43mshow_plots\u001b[49m\u001b[38;5;241;43m=\u001b[39;49m\u001b[38;5;28;43;01mTrue\u001b[39;49;00m\u001b[43m,\u001b[49m\u001b[43m \u001b[49m\u001b[43mprint_data\u001b[49m\u001b[38;5;241;43m=\u001b[39;49m\u001b[38;5;28;43;01mTrue\u001b[39;49;00m\u001b[43m)\u001b[49m\n\u001b[1;32m      3\u001b[0m proton\u001b[38;5;241m.\u001b[39mfinalize()\n",
            "File \u001b[0;32m~/code/triton/python/triton/testing.py:373\u001b[0m, in \u001b[0;36mMark.run\u001b[0;34m(self, show_plots, print_data, save_path, return_df, **kwargs)\u001b[0m\n\u001b[1;32m    371\u001b[0m     html\u001b[38;5;241m.\u001b[39mwrite(\u001b[38;5;124m\"\u001b[39m\u001b[38;5;124m<html><body>\u001b[39m\u001b[38;5;130;01m\\n\u001b[39;00m\u001b[38;5;124m\"\u001b[39m)\n\u001b[1;32m    372\u001b[0m \u001b[38;5;28;01mfor\u001b[39;00m bench \u001b[38;5;129;01min\u001b[39;00m benchmarks:\n\u001b[0;32m--> 373\u001b[0m     result_dfs\u001b[38;5;241m.\u001b[39mappend(\u001b[38;5;28;43mself\u001b[39;49m\u001b[38;5;241;43m.\u001b[39;49m\u001b[43m_run\u001b[49m\u001b[43m(\u001b[49m\u001b[43mbench\u001b[49m\u001b[43m,\u001b[49m\u001b[43m \u001b[49m\u001b[43msave_path\u001b[49m\u001b[43m,\u001b[49m\u001b[43m \u001b[49m\u001b[43mshow_plots\u001b[49m\u001b[43m,\u001b[49m\u001b[43m \u001b[49m\u001b[43mprint_data\u001b[49m\u001b[43m,\u001b[49m\u001b[43m \u001b[49m\u001b[38;5;241;43m*\u001b[39;49m\u001b[38;5;241;43m*\u001b[39;49m\u001b[43mkwargs\u001b[49m\u001b[43m)\u001b[49m)\n\u001b[1;32m    374\u001b[0m     \u001b[38;5;28;01mif\u001b[39;00m save_path:\n\u001b[1;32m    375\u001b[0m         html\u001b[38;5;241m.\u001b[39mwrite(\u001b[38;5;124mf\u001b[39m\u001b[38;5;124m\"\u001b[39m\u001b[38;5;124m<image src=\u001b[39m\u001b[38;5;130;01m\\\"\u001b[39;00m\u001b[38;5;132;01m{\u001b[39;00mbench\u001b[38;5;241m.\u001b[39mplot_name\u001b[38;5;132;01m}\u001b[39;00m\u001b[38;5;124m.png\u001b[39m\u001b[38;5;130;01m\\\"\u001b[39;00m\u001b[38;5;124m/>\u001b[39m\u001b[38;5;130;01m\\n\u001b[39;00m\u001b[38;5;124m\"\u001b[39m)\n",
            "File \u001b[0;32m~/code/triton/python/triton/testing.py:316\u001b[0m, in \u001b[0;36mMark._run\u001b[0;34m(self, bench, save_path, show_plots, print_data, diff_col, save_precision, **kwrags)\u001b[0m\n\u001b[1;32m    314\u001b[0m row_mean, row_min, row_max \u001b[38;5;241m=\u001b[39m [], [], []\n\u001b[1;32m    315\u001b[0m \u001b[38;5;28;01mfor\u001b[39;00m y \u001b[38;5;129;01min\u001b[39;00m bench\u001b[38;5;241m.\u001b[39mline_vals:\n\u001b[0;32m--> 316\u001b[0m     ret \u001b[38;5;241m=\u001b[39m \u001b[38;5;28;43mself\u001b[39;49m\u001b[38;5;241;43m.\u001b[39;49m\u001b[43mfn\u001b[49m\u001b[43m(\u001b[49m\u001b[38;5;241;43m*\u001b[39;49m\u001b[38;5;241;43m*\u001b[39;49m\u001b[43mx_args\u001b[49m\u001b[43m,\u001b[49m\u001b[43m \u001b[49m\u001b[38;5;241;43m*\u001b[39;49m\u001b[38;5;241;43m*\u001b[39;49m\u001b[43m{\u001b[49m\u001b[43mbench\u001b[49m\u001b[38;5;241;43m.\u001b[39;49m\u001b[43mline_arg\u001b[49m\u001b[43m:\u001b[49m\u001b[43m \u001b[49m\u001b[43my\u001b[49m\u001b[43m}\u001b[49m\u001b[43m,\u001b[49m\u001b[43m \u001b[49m\u001b[38;5;241;43m*\u001b[39;49m\u001b[38;5;241;43m*\u001b[39;49m\u001b[43mbench\u001b[49m\u001b[38;5;241;43m.\u001b[39;49m\u001b[43margs\u001b[49m\u001b[43m,\u001b[49m\u001b[43m \u001b[49m\u001b[38;5;241;43m*\u001b[39;49m\u001b[38;5;241;43m*\u001b[39;49m\u001b[43mkwrags\u001b[49m\u001b[43m)\u001b[49m\n\u001b[1;32m    317\u001b[0m     \u001b[38;5;28;01mtry\u001b[39;00m:\n\u001b[1;32m    318\u001b[0m         y_mean, y_min, y_max \u001b[38;5;241m=\u001b[39m ret\n",
            "Cell \u001b[0;32mIn[2], line 250\u001b[0m, in \u001b[0;36mbenchmark\u001b[0;34m(M, N, K, provider)\u001b[0m\n\u001b[1;32m    234\u001b[0m \u001b[38;5;129m@triton\u001b[39m\u001b[38;5;241m.\u001b[39mtesting\u001b[38;5;241m.\u001b[39mperf_report(\n\u001b[1;32m    235\u001b[0m   triton\u001b[38;5;241m.\u001b[39mtesting\u001b[38;5;241m.\u001b[39mBenchmark(\n\u001b[1;32m    236\u001b[0m     x_names\u001b[38;5;241m=\u001b[39m[\u001b[38;5;124m\"\u001b[39m\u001b[38;5;124mM\u001b[39m\u001b[38;5;124m\"\u001b[39m, \u001b[38;5;124m\"\u001b[39m\u001b[38;5;124mN\u001b[39m\u001b[38;5;124m\"\u001b[39m, \u001b[38;5;124m\"\u001b[39m\u001b[38;5;124mK\u001b[39m\u001b[38;5;124m\"\u001b[39m],  \u001b[38;5;66;03m# Argument names to use as an x-axis for the plot\u001b[39;00m\n\u001b[0;32m   (...)\u001b[0m\n\u001b[1;32m    248\u001b[0m   ))\n\u001b[1;32m    249\u001b[0m \u001b[38;5;28;01mdef\u001b[39;00m \u001b[38;5;21mbenchmark\u001b[39m(M, N, K, provider):\n\u001b[0;32m--> 250\u001b[0m   a \u001b[38;5;241m=\u001b[39m \u001b[43mtorch\u001b[49m\u001b[38;5;241;43m.\u001b[39;49m\u001b[43mrandn\u001b[49m\u001b[43m(\u001b[49m\u001b[43m(\u001b[49m\u001b[43mM\u001b[49m\u001b[43m,\u001b[49m\u001b[43m \u001b[49m\u001b[43mK\u001b[49m\u001b[43m)\u001b[49m\u001b[43m,\u001b[49m\u001b[43m \u001b[49m\u001b[43mdevice\u001b[49m\u001b[38;5;241;43m=\u001b[39;49m\u001b[38;5;124;43m\"\u001b[39;49m\u001b[38;5;124;43mcuda\u001b[39;49m\u001b[38;5;124;43m\"\u001b[39;49m\u001b[43m,\u001b[49m\u001b[43m \u001b[49m\u001b[43mdtype\u001b[49m\u001b[38;5;241;43m=\u001b[39;49m\u001b[43mtorch\u001b[49m\u001b[38;5;241;43m.\u001b[39;49m\u001b[43mfloat16\u001b[49m\u001b[43m)\u001b[49m\n\u001b[1;32m    251\u001b[0m   b \u001b[38;5;241m=\u001b[39m torch\u001b[38;5;241m.\u001b[39mrandn((K, N), device\u001b[38;5;241m=\u001b[39m\u001b[38;5;124m\"\u001b[39m\u001b[38;5;124mcuda\u001b[39m\u001b[38;5;124m\"\u001b[39m, dtype\u001b[38;5;241m=\u001b[39mtorch\u001b[38;5;241m.\u001b[39mfloat16)\n\u001b[1;32m    252\u001b[0m   quantiles \u001b[38;5;241m=\u001b[39m [\u001b[38;5;241m0.5\u001b[39m, \u001b[38;5;241m0.2\u001b[39m, \u001b[38;5;241m0.8\u001b[39m]\n",
            "\u001b[0;31mRuntimeError\u001b[0m: Failed to execute cuptiPCSamplingStart with error 26"
          ]
        },
        {
          "ename": "",
          "evalue": "",
          "output_type": "error",
          "traceback": [
            "\u001b[1;31mThe Kernel crashed while executing code in the current cell or a previous cell. \n",
            "\u001b[1;31mPlease review the code in the cell(s) to identify a possible cause of the failure. \n",
            "\u001b[1;31mClick <a href='https://aka.ms/vscodeJupyterKernelCrash'>here</a> for more info. \n",
            "\u001b[1;31mView Jupyter <a href='command:jupyter.viewOutput'>log</a> for further details."
          ]
        }
      ],
      "source": [
        "proton.start(\"matmul\", backend=\"cupti_pcsampling\", hook=\"triton\")\n",
        "benchmark.run(show_plots=True, print_data=True)\n",
        "proton.finalize()"
      ]
    },
    {
      "cell_type": "code",
      "execution_count": null,
      "metadata": {},
      "outputs": [],
      "source": [
        "!proton-viewer -m util,tflop/s -i \".*triton.*\" ./matmul.hatchet"
      ]
    },
    {
      "cell_type": "markdown",
      "metadata": {
        "id": "yFLSXo4Vnemg"
      },
      "source": []
    }
  ],
  "metadata": {
    "accelerator": "GPU",
    "colab": {
      "authorship_tag": "ABX9TyOAZtaEqH4TU7KVwLjaqEdS",
      "gpuType": "T4",
      "include_colab_link": true,
      "provenance": []
    },
    "kernelspec": {
      "display_name": "Python 3",
      "name": "python3"
    },
    "language_info": {
      "codemirror_mode": {
        "name": "ipython",
        "version": 3
      },
      "file_extension": ".py",
      "mimetype": "text/x-python",
      "name": "python",
      "nbconvert_exporter": "python",
      "pygments_lexer": "ipython3",
      "version": "3.10.12"
    }
  },
  "nbformat": 4,
  "nbformat_minor": 0
}
