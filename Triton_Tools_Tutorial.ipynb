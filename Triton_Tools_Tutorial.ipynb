{
  "cells": [
    {
      "cell_type": "markdown",
      "metadata": {
        "colab_type": "text",
        "id": "view-in-github"
      },
      "source": [
        "<a href=\"https://colab.research.google.com/github/Jokeren/triton-samples/blob/main/Triton_Tools_Tutorial.ipynb\" target=\"_parent\"><img src=\"https://colab.research.google.com/assets/colab-badge.svg\" alt=\"Open In Colab\"/></a>"
      ]
    },
    {
      "cell_type": "markdown",
      "metadata": {
        "id": "PON--s1kWgEs"
      },
      "source": [
        "# Preparation"
      ]
    },
    {
      "cell_type": "markdown",
      "metadata": {
        "id": "d1k5pOL8dgxc"
      },
      "source": [
        "### Install PyTorch\n"
      ]
    },
    {
      "cell_type": "code",
      "execution_count": null,
      "metadata": {
        "colab": {
          "base_uri": "https://localhost:8080/"
        },
        "id": "QGKbgHikdiuJ",
        "outputId": "3dfa2c19-b007-4db7-e1ca-94898fd58166"
      },
      "outputs": [],
      "source": [
        "%pip uninstall -y torch torchvision torchaudio\n",
        "%pip install --pre torch torchvision torchaudio --index-url https://download.pytorch.org/whl/nightly/cu121"
      ]
    },
    {
      "cell_type": "markdown",
      "metadata": {
        "id": "LhRLnJZfaORe"
      },
      "source": [
        "### Alternative: Install Triton from source"
      ]
    },
    {
      "cell_type": "code",
      "execution_count": null,
      "metadata": {
        "colab": {
          "base_uri": "https://localhost:8080/"
        },
        "id": "H2FNam7FUd_2",
        "outputId": "878a0225-3a60-4770-e28f-a0288fb48268"
      },
      "outputs": [],
      "source": [
        "%git clone https://github.com/triton-lang/triton.git\n",
        "%cd triton/python/\n",
        "\n",
        "%pip install ninja cmake wheel pybind11; # build-time dependencies\n",
        "%pip install -e ."
      ]
    },
    {
      "cell_type": "markdown",
      "metadata": {
        "id": "VqQKPhXFmxQL"
      },
      "source": [
        "# Interpreter"
      ]
    },
    {
      "cell_type": "markdown",
      "metadata": {},
      "source": [
        "### Import packages"
      ]
    },
    {
      "cell_type": "code",
      "execution_count": null,
      "metadata": {},
      "outputs": [],
      "source": [
        "import torch\n",
        "import triton\n",
        "import triton.language as tl"
      ]
    },
    {
      "cell_type": "markdown",
      "metadata": {
        "id": "sQWLNl7Qv4Ve"
      },
      "source": [
        "### tl.device_print"
      ]
    },
    {
      "cell_type": "code",
      "execution_count": null,
      "metadata": {
        "id": "6Aha4IYJv_xP"
      },
      "outputs": [],
      "source": [
        "@triton.jit\n",
        "def add_kernel_device_print(x_ptr, y_ptr, z_ptr, dim0, dim1,\n",
        "                            BLOCK_DIM0: tl.constexpr, BLOCK_DIM1: tl.constexpr):\n",
        "  pid_x = tl.program_id(axis=0)\n",
        "  pid_y = tl.program_id(axis=1)\n",
        "  block_start = pid_x * BLOCK_DIM0 * dim1 + pid_y * BLOCK_DIM1\n",
        "  offsets_dim0 = tl.arange(0, BLOCK_DIM0)[:,None]\n",
        "  offsets_dim1 = tl.arange(0, BLOCK_DIM1)[None, :]\n",
        "  offsets = block_start + offsets_dim0 * dim1 + offsets_dim1\n",
        "  tl.device_print(\"offsets=\", offsets)\n",
        "  masks = (offsets_dim0 < dim0) & (offsets_dim1 < dim1)\n",
        "  x = tl.load(x_ptr + offsets, mask=masks)\n",
        "  y = tl.load(y_ptr + offsets, mask=masks)\n",
        "  output = x + y\n",
        "  tl.store(z_ptr + offsets, output, mask=masks)\n"
      ]
    },
    {
      "cell_type": "code",
      "execution_count": null,
      "metadata": {
        "id": "oxK7e_RemwYp"
      },
      "outputs": [],
      "source": [
        "a = torch.randn(128, 128, device=\"cuda\")\n",
        "b = torch.randn(128, 128, device=\"cuda\")\n",
        "c = torch.zeros(128, 128, device=\"cuda\")\n",
        "add_kernel_device_print[(8, 8)](a, b, c, 128, 128, 16, 16)\n",
        "c_ref = a + b\n",
        "assert torch.allclose(c, c_ref)"
      ]
    },
    {
      "cell_type": "markdown",
      "metadata": {},
      "source": [
        "### Initialize the interpreter"
      ]
    },
    {
      "cell_type": "code",
      "execution_count": null,
      "metadata": {},
      "outputs": [],
      "source": [
        "import os\n",
        "os.environ[\"TRITON_INTERPRET\"] = \"1\"\n",
        "\n",
        "import importlib\n",
        "\n",
        "importlib.reload(triton)\n",
        "importlib.reload(tl)"
      ]
    },
    {
      "cell_type": "markdown",
      "metadata": {},
      "source": [
        "### Demo 1: Interpreter print"
      ]
    },
    {
      "cell_type": "code",
      "execution_count": null,
      "metadata": {},
      "outputs": [],
      "source": [
        "@triton.jit\n",
        "def add_kernel_print(x_ptr, y_ptr, z_ptr, dim0, dim1,\n",
        "                     BLOCK_DIM0: tl.constexpr, BLOCK_DIM1: tl.constexpr):\n",
        "  pid_x = tl.program_id(axis=0)\n",
        "  pid_y = tl.program_id(axis=1)\n",
        "  block_start = pid_x * BLOCK_DIM0 * dim1 + pid_y * BLOCK_DIM1\n",
        "  offsets_dim0 = tl.arange(0, BLOCK_DIM0)[:,None]\n",
        "  offsets_dim1 = tl.arange(0, BLOCK_DIM1)[None, :]\n",
        "  offsets = block_start + offsets_dim0 * dim1 + offsets_dim1\n",
        "  print(\"offsets=\", offsets)\n",
        "  masks = (offsets_dim0 < dim0) & (offsets_dim1 < dim1)\n",
        "  x = tl.load(x_ptr + offsets, mask=masks)\n",
        "  y = tl.load(y_ptr + offsets, mask=masks)\n",
        "  output = x + y\n",
        "  tl.store(z_ptr + offsets, output, mask=masks)"
      ]
    },
    {
      "cell_type": "code",
      "execution_count": null,
      "metadata": {
        "id": "yyKcijFAm4Wp"
      },
      "outputs": [],
      "source": [
        "a = torch.randn(128, 128, device=\"cuda\")\n",
        "b = torch.randn(128, 128, device=\"cuda\")\n",
        "c = torch.zeros(128, 128, device=\"cuda\")\n",
        "add_kernel_print[(8, 8)](a, b, c, 128, 128, 16, 16)\n",
        "c_ref = a + b\n",
        "assert torch.allclose(c, c_ref)"
      ]
    },
    {
      "cell_type": "markdown",
      "metadata": {},
      "source": [
        "### Demo 2: pdb"
      ]
    },
    {
      "cell_type": "code",
      "execution_count": null,
      "metadata": {},
      "outputs": [],
      "source": [
        "import pdb\n",
        "\n",
        "@triton.jit\n",
        "def add_kernel_pdb(x_ptr, y_ptr, z_ptr, dim0, dim1,\n",
        "                   BLOCK_DIM0: tl.constexpr, BLOCK_DIM1: tl.constexpr):\n",
        "  pid_x = tl.program_id(axis=0)\n",
        "  pid_y = tl.program_id(axis=1)\n",
        "  block_start = pid_x * BLOCK_DIM0 * dim1 + pid_y * BLOCK_DIM1\n",
        "  offsets_dim0 = tl.arange(0, BLOCK_DIM0)[:,None]\n",
        "  offsets_dim1 = tl.arange(0, BLOCK_DIM1)[None, :]\n",
        "  offsets = block_start + offsets_dim0 * dim1 + offsets_dim1\n",
        "  masks = (offsets_dim0 < dim0) & (offsets_dim1 < dim1)\n",
        "  if pid_x == 0 and pid_y == 0:\n",
        "    pdb.set_trace()\n",
        "  x = tl.load(x_ptr + offsets, mask=masks)\n",
        "  y = tl.load(y_ptr + offsets, mask=masks)\n",
        "  output = x + y\n",
        "  tl.store(z_ptr + offsets, output, mask=masks)"
      ]
    },
    {
      "cell_type": "code",
      "execution_count": null,
      "metadata": {},
      "outputs": [],
      "source": [
        "a = torch.randn(128, 128, device=\"cuda\")\n",
        "b = torch.randn(128, 128, device=\"cuda\")\n",
        "c = torch.zeros(128, 128, device=\"cuda\")\n",
        "add_kernel_pdb[(8, 8)](a, b, c, 128, 128, 16, 16)\n",
        "c_ref = a + b\n",
        "assert torch.allclose(c, c_ref)"
      ]
    },
    {
      "cell_type": "markdown",
      "metadata": {},
      "source": [
        "### Demo 3: Jupyter notebook"
      ]
    },
    {
      "cell_type": "code",
      "execution_count": null,
      "metadata": {},
      "outputs": [],
      "source": [
        "@triton.jit\n",
        "def add_kernel_pdb(x_ptr, y_ptr, z_ptr, dim0, dim1,\n",
        "                   BLOCK_DIM0: tl.constexpr, BLOCK_DIM1: tl.constexpr):\n",
        "  pid_x = tl.program_id(axis=0)\n",
        "  pid_y = tl.program_id(axis=1)\n",
        "  block_start = pid_x * BLOCK_DIM0 * dim1 + pid_y * BLOCK_DIM1\n",
        "  offsets_dim0 = tl.arange(0, BLOCK_DIM0)[:,None]\n",
        "  offsets_dim1 = tl.arange(0, BLOCK_DIM1)[None, :]\n",
        "  offsets = block_start + offsets_dim0 * dim1 + offsets_dim1\n",
        "  masks = (offsets_dim0 < dim0) & (offsets_dim1 < dim1)\n",
        "  x = tl.load(x_ptr + offsets, mask=masks)\n",
        "  y = tl.load(y_ptr + offsets, mask=masks)\n",
        "  output = x + y\n",
        "  tl.store(z_ptr + offsets, output, mask=masks)\n",
        "\n",
        "a = torch.randn(128, 128, device=\"cuda\")\n",
        "b = torch.randn(128, 128, device=\"cuda\")\n",
        "c = torch.zeros(128, 128, device=\"cuda\")\n",
        "add_kernel_pdb[(8, 8)](a, b, c, 128, 128, 16, 16)\n",
        "c_ref = a + b\n",
        "assert torch.allclose(c, c_ref)"
      ]
    },
    {
      "cell_type": "markdown",
      "metadata": {},
      "source": [
        "### Unload the interpreter"
      ]
    },
    {
      "cell_type": "code",
      "execution_count": null,
      "metadata": {},
      "outputs": [],
      "source": [
        "import importlib\n",
        "\n",
        "importlib.reload(tl)"
      ]
    },
    {
      "cell_type": "markdown",
      "metadata": {
        "id": "Zu4TshXtm4tw"
      },
      "source": [
        "# Proton"
      ]
    },
    {
      "cell_type": "markdown",
      "metadata": {},
      "source": [
        "### Import Packages"
      ]
    },
    {
      "cell_type": "code",
      "execution_count": 1,
      "metadata": {},
      "outputs": [],
      "source": [
        "import torch\n",
        "import triton\n",
        "import triton.language as tl\n",
        "import triton.profiler as proton"
      ]
    },
    {
      "cell_type": "markdown",
      "metadata": {
        "id": "ilwSTc_rm9vi"
      },
      "source": [
        "### Demo 4: Instrumentation-based profiling"
      ]
    },
    {
      "cell_type": "code",
      "execution_count": null,
      "metadata": {},
      "outputs": [],
      "source": [
        "@triton.jit\n",
        "def add_kernel(x_ptr, y_ptr, z_ptr, dim0, dim1,\n",
        "               BLOCK_DIM0: tl.constexpr, BLOCK_DIM1: tl.constexpr):\n",
        "  pid_x = tl.program_id(axis=0)\n",
        "  pid_y = tl.program_id(axis=1)\n",
        "  block_start = pid_x * BLOCK_DIM0 * dim1 + pid_y * BLOCK_DIM1\n",
        "  offsets_dim0 = tl.arange(0, BLOCK_DIM0)[:,None]\n",
        "  offsets_dim1 = tl.arange(0, BLOCK_DIM1)[None, :]\n",
        "  offsets = block_start + offsets_dim0 * dim1 + offsets_dim1\n",
        "  masks = (offsets_dim0 < dim0) & (offsets_dim1 < dim1)\n",
        "  x = tl.load(x_ptr + offsets, mask=masks)\n",
        "  y = tl.load(y_ptr + offsets, mask=masks)\n",
        "  output = x + y\n",
        "  tl.store(z_ptr + offsets, output, mask=masks)"
      ]
    },
    {
      "cell_type": "code",
      "execution_count": null,
      "metadata": {
        "id": "ThUe16gUm6lh"
      },
      "outputs": [],
      "source": [
        "proton.start()\n",
        "a = torch.randn(128, 128, device='cuda')\n",
        "b = torch.randn(128, 128, device='cuda')\n",
        "c = torch.zeros(128, 128, device='cuda')\n",
        "add_kernel[(8, 8)](a, b, c, 128, 128, 16, 16)\n",
        "proton.finalize()\n",
        "c_ref = a + b\n",
        "assert torch.allclose(c, c_ref)"
      ]
    },
    {
      "cell_type": "code",
      "execution_count": null,
      "metadata": {},
      "outputs": [],
      "source": [
        "!proton-viewer -m time/ms ./proton.hatchet"
      ]
    },
    {
      "cell_type": "markdown",
      "metadata": {},
      "source": [
        "### Demo 5: Activate/deactivate proton"
      ]
    },
    {
      "cell_type": "code",
      "execution_count": null,
      "metadata": {},
      "outputs": [],
      "source": [
        "session_id = proton.start()\n",
        "proton.deactivate(session_id)\n",
        "a = torch.randn(128, 128, device='cuda')\n",
        "b = torch.randn(128, 128, device='cuda')\n",
        "c = torch.zeros(128, 128, device='cuda')\n",
        "proton.activate(session_id)\n",
        "add_kernel[(8, 8)](a, b, c, 128, 128, 16, 16)\n",
        "proton.finalize()\n",
        "c_ref = a + b\n",
        "assert torch.allclose(c, c_ref)"
      ]
    },
    {
      "cell_type": "code",
      "execution_count": null,
      "metadata": {
        "id": "RtuBXF1FnSGl"
      },
      "outputs": [],
      "source": [
        "!proton-viewer -m time/ms ./proton.hatchet"
      ]
    },
    {
      "cell_type": "markdown",
      "metadata": {
        "id": "8fl__oZAnL8X"
      },
      "source": [
        "### Demo 6: Profiling using scopes"
      ]
    },
    {
      "cell_type": "code",
      "execution_count": null,
      "metadata": {},
      "outputs": [],
      "source": [
        "proton.start()\n",
        "\n",
        "with proton.scope(\"initialization\", metrics={\"bytes\": 128*128*4*3}):\n",
        "  a = torch.randn(128, 128, device='cuda')\n",
        "  b = torch.randn(128, 128, device='cuda')\n",
        "  c = torch.zeros(128, 128, device='cuda')\n",
        "with proton.scope(\"add\", metrics={\"bytes\": 128*128*4*3}):\n",
        "  add_kernel[(8, 8)](a, b, c, 128, 128, 16, 16)\n",
        "\n",
        "proton.finalize()\n",
        "c_ref = a + b\n",
        "assert torch.allclose(c, c_ref)"
      ]
    },
    {
      "cell_type": "code",
      "execution_count": null,
      "metadata": {},
      "outputs": [],
      "source": [
        "!proton-viewer -l ./proton.hatchet"
      ]
    },
    {
      "cell_type": "code",
      "execution_count": null,
      "metadata": {},
      "outputs": [],
      "source": [
        "!proton-viewer -m time/ms ./proton.hatchet"
      ]
    },
    {
      "cell_type": "code",
      "execution_count": null,
      "metadata": {},
      "outputs": [],
      "source": [
        "!proton-viewer -m gbyte/s,time/ms ./proton.hatchet"
      ]
    },
    {
      "cell_type": "markdown",
      "metadata": {
        "id": "tfaTgmfFnNwv"
      },
      "source": [
        "### Demo 7: Python unwinding"
      ]
    },
    {
      "cell_type": "code",
      "execution_count": null,
      "metadata": {
        "id": "EXQ_qdIYnSz0"
      },
      "outputs": [],
      "source": [
        "proton.start(context=\"python\")\n",
        "\n",
        "def initialization():\n",
        "  a = torch.randn(128, 128, device='cuda')\n",
        "  b = torch.randn(128, 128, device='cuda')\n",
        "  c = torch.zeros(128, 128, device='cuda')\n",
        "  return a, b, c\n",
        "\n",
        "def add(a, b, c):\n",
        "  add_kernel[(8, 8)](a, b, c, 128, 128, 16, 16)\n",
        "\n",
        "a, b, c = initialization()\n",
        "add(a, b, c)\n",
        "\n",
        "proton.finalize()\n",
        "c_ref = a + b\n",
        "assert torch.allclose(c, c_ref)"
      ]
    },
    {
      "cell_type": "code",
      "execution_count": null,
      "metadata": {},
      "outputs": [],
      "source": [
        "!proton-viewer -f function_line -m time/ms ./proton.hatchet"
      ]
    },
    {
      "cell_type": "markdown",
      "metadata": {
        "id": "QB37uR7WnU86"
      },
      "source": [
        "### Demo 8: Matmul flops"
      ]
    },
    {
      "cell_type": "code",
      "execution_count": 2,
      "metadata": {
        "id": "bCbiReZGnXew"
      },
      "outputs": [
        {
          "name": "stdout",
          "output_type": "stream",
          "text": [
            "dir: /home/keren/code/triton/third_party/nvidia/backend/lib/cupti\n",
            "dir: \n"
          ]
        },
        {
          "data": {
            "image/png": "[encoded data removed]",
            "text/plain": [
              "<Figure size 640x480 with 1 Axes>"
            ]
          },
          "metadata": {},
          "output_type": "display_data"
        },
        {
          "name": "stdout",
          "output_type": "stream",
          "text": [
            "matmul-performance:\n",
            "        M       N       K     cuBLAS     Triton\n",
            "0   256.0   256.0   256.0   2.490679   3.276800\n",
            "1   384.0   384.0   384.0   7.497762   6.639670\n",
            "2   512.0   512.0   512.0  13.127713  13.127713\n",
            "3   640.0   640.0   640.0  13.908319  13.579776\n",
            "4   768.0   768.0   768.0  13.604782  15.896435\n",
            "5   896.0   896.0   896.0  14.558839  16.247811\n",
            "6  1024.0  1024.0  1024.0  17.563168  20.080450\n",
            "7  1152.0  1152.0  1152.0  16.091527  17.561383\n"
          ]
        }
      ],
      "source": [
        "import torch\n",
        "\n",
        "import triton\n",
        "import triton.language as tl\n",
        "import triton.profiler as proton\n",
        "from typing import NamedTuple\n",
        "\n",
        "\n",
        "def unpack_grid(grid):\n",
        "  if len(grid) == 1:\n",
        "    return grid[0], 1, 1\n",
        "  if len(grid) == 2:\n",
        "    return grid[0], grid[1], 1\n",
        "  if len(grid) == 3:\n",
        "    return grid[0], grid[1], grid[2]\n",
        "\n",
        "\n",
        "def metadata_fn(\n",
        "  grid: tuple,\n",
        "  metadata: NamedTuple,\n",
        "  args: dict,\n",
        "):\n",
        "  grid_x, grid_y, grid_z = unpack_grid(grid)\n",
        "  num_warps = metadata.num_warps\n",
        "  num_stages = metadata.num_stages\n",
        "  cluster_x, cluster_y, cluster_z = metadata.cluster_dims\n",
        "  shared_memory = metadata.shared\n",
        "  M, K = args[\"a_ptr\"].shape\n",
        "  K, N = args[\"b_ptr\"].shape\n",
        "  return {\n",
        "    \"name\":\n",
        "    f\"matmul_<grid:{grid_x}x{grid_y}x{grid_z}>_<cluster:{cluster_x}x{cluster_y}x{cluster_z}>_<warps:{num_warps}>_<shared:{shared_memory}>_<stages:{num_stages}>\",\n",
        "    \"flops\": 2 * M * N * K,\n",
        "    \"bytes\": (M * N + N * K + K * M) * args[\"a_ptr\"].element_size(),\n",
        "  }\n",
        "\n",
        "\n",
        "@triton.autotune(\n",
        "  configs=[\n",
        "    triton.Config(\n",
        "      {\n",
        "        \"BLOCK_SIZE_M\": 128,\n",
        "        \"BLOCK_SIZE_N\": 256,\n",
        "        \"BLOCK_SIZE_K\": 64,\n",
        "        \"GROUP_SIZE_M\": 8,\n",
        "      },\n",
        "      num_stages=3,\n",
        "      num_warps=8,\n",
        "    ),\n",
        "    triton.Config(\n",
        "      {\n",
        "        \"BLOCK_SIZE_M\": 64,\n",
        "        \"BLOCK_SIZE_N\": 256,\n",
        "        \"BLOCK_SIZE_K\": 32,\n",
        "        \"GROUP_SIZE_M\": 8,\n",
        "      },\n",
        "      num_stages=4,\n",
        "      num_warps=4,\n",
        "    ),\n",
        "    triton.Config(\n",
        "      {\n",
        "        \"BLOCK_SIZE_M\": 128,\n",
        "        \"BLOCK_SIZE_N\": 128,\n",
        "        \"BLOCK_SIZE_K\": 32,\n",
        "        \"GROUP_SIZE_M\": 8,\n",
        "      },\n",
        "      num_stages=4,\n",
        "      num_warps=4,\n",
        "    ),\n",
        "    triton.Config(\n",
        "      {\n",
        "        \"BLOCK_SIZE_M\": 128,\n",
        "        \"BLOCK_SIZE_N\": 64,\n",
        "        \"BLOCK_SIZE_K\": 32,\n",
        "        \"GROUP_SIZE_M\": 8,\n",
        "      },\n",
        "      num_stages=4,\n",
        "      num_warps=4,\n",
        "    ),\n",
        "    triton.Config(\n",
        "      {\n",
        "        \"BLOCK_SIZE_M\": 64,\n",
        "        \"BLOCK_SIZE_N\": 128,\n",
        "        \"BLOCK_SIZE_K\": 32,\n",
        "        \"GROUP_SIZE_M\": 8,\n",
        "      },\n",
        "      num_stages=4,\n",
        "      num_warps=4,\n",
        "    ),\n",
        "    triton.Config(\n",
        "      {\n",
        "        \"BLOCK_SIZE_M\": 128,\n",
        "        \"BLOCK_SIZE_N\": 32,\n",
        "        \"BLOCK_SIZE_K\": 32,\n",
        "        \"GROUP_SIZE_M\": 8,\n",
        "      },\n",
        "      num_stages=4,\n",
        "      num_warps=4,\n",
        "    ),\n",
        "    triton.Config(\n",
        "      {\n",
        "        \"BLOCK_SIZE_M\": 64,\n",
        "        \"BLOCK_SIZE_N\": 32,\n",
        "        \"BLOCK_SIZE_K\": 32,\n",
        "        \"GROUP_SIZE_M\": 8,\n",
        "      },\n",
        "      num_stages=5,\n",
        "      num_warps=2,\n",
        "    ),\n",
        "    triton.Config(\n",
        "      {\n",
        "        \"BLOCK_SIZE_M\": 32,\n",
        "        \"BLOCK_SIZE_N\": 64,\n",
        "        \"BLOCK_SIZE_K\": 32,\n",
        "        \"GROUP_SIZE_M\": 8,\n",
        "      },\n",
        "      num_stages=5,\n",
        "      num_warps=2,\n",
        "    ),\n",
        "  ],\n",
        "  key=[\"M\", \"N\", \"K\"],\n",
        ")\n",
        "@triton.jit(launch_metadata=metadata_fn)\n",
        "def matmul_kernel(\n",
        "    # Pointers to matrices\n",
        "    a_ptr, b_ptr, c_ptr,\n",
        "    # Matrix dimensions\n",
        "    M, N, K,\n",
        "    # The stride variables represent how much to increase the ptr by when moving by 1\n",
        "    # element in a particular dimension. E.g. `stride_am` is how much to increase `a_ptr`\n",
        "    # by to get the element one row down (A has M rows).\n",
        "    stride_am, stride_ak,  #\n",
        "    stride_bk, stride_bn,  #\n",
        "    stride_cm, stride_cn,\n",
        "    # Meta-parameters\n",
        "    BLOCK_SIZE_M: tl.constexpr, BLOCK_SIZE_N: tl.constexpr, BLOCK_SIZE_K: tl.constexpr,  #\n",
        "    GROUP_SIZE_M: tl.constexpr,  #\n",
        "    ACTIVATION: tl.constexpr,  #\n",
        "):\n",
        "  \"\"\"Kernel for computing the matmul C = A x B.\n",
        "  A has shape (M, K), B has shape (K, N) and C has shape (M, N)\n",
        "  \"\"\"\n",
        "  # -----------------------------------------------------------\n",
        "  # Map program ids `pid` to the block of C it should compute.\n",
        "  # This is done in a grouped ordering to promote L2 data reuse.\n",
        "  # See above `L2 Cache Optimizations` section for details.\n",
        "  pid = tl.program_id(axis=0)\n",
        "  num_pid_m = tl.cdiv(M, BLOCK_SIZE_M)\n",
        "  num_pid_n = tl.cdiv(N, BLOCK_SIZE_N)\n",
        "  num_pid_in_group = GROUP_SIZE_M * num_pid_n\n",
        "  group_id = pid // num_pid_in_group\n",
        "  first_pid_m = group_id * GROUP_SIZE_M\n",
        "  group_size_m = min(num_pid_m - first_pid_m, GROUP_SIZE_M)\n",
        "  pid_m = first_pid_m + (pid % group_size_m)\n",
        "  pid_n = (pid % num_pid_in_group) // group_size_m\n",
        "\n",
        "  # ----------------------------------------------------------\n",
        "  # Create pointers for the first blocks of A and B.\n",
        "  # We will advance this pointer as we move in the K direction\n",
        "  # and accumulate\n",
        "  # `a_ptrs` is a block of [BLOCK_SIZE_M, BLOCK_SIZE_K] pointers\n",
        "  # `b_ptrs` is a block of [BLOCK_SIZE_K, BLOCK_SIZE_N] pointers\n",
        "  # See above `Pointer Arithmetic` section for details\n",
        "  offs_am = (pid_m * BLOCK_SIZE_M + tl.arange(0, BLOCK_SIZE_M)) % M\n",
        "  offs_bn = (pid_n * BLOCK_SIZE_N + tl.arange(0, BLOCK_SIZE_N)) % N\n",
        "  offs_k = tl.arange(0, BLOCK_SIZE_K)\n",
        "  a_ptrs = a_ptr + (offs_am[:, None] * stride_am + offs_k[None, :] * stride_ak)\n",
        "  b_ptrs = b_ptr + (offs_k[:, None] * stride_bk + offs_bn[None, :] * stride_bn)\n",
        "\n",
        "  # -----------------------------------------------------------\n",
        "  # Iterate to compute a block of the C matrix.\n",
        "  # We accumulate into a `[BLOCK_SIZE_M, BLOCK_SIZE_N]` block\n",
        "  # of fp32 values for higher accuracy.\n",
        "  # `accumulator` will be converted back to fp16 after the loop.\n",
        "  accumulator = tl.zeros((BLOCK_SIZE_M, BLOCK_SIZE_N), dtype=tl.float32)\n",
        "  for k in range(0, tl.cdiv(K, BLOCK_SIZE_K)):\n",
        "    # Load the next block of A and B, generate a mask by checking the K dimension.\n",
        "    # If it is out of bounds, set it to 0.\n",
        "    a = tl.load(a_ptrs, mask=offs_k[None, :] < K - k * BLOCK_SIZE_K, other=0.0)\n",
        "    b = tl.load(b_ptrs, mask=offs_k[:, None] < K - k * BLOCK_SIZE_K, other=0.0)\n",
        "    # We accumulate along the K dimension.\n",
        "    accumulator += tl.dot(a, b)\n",
        "    # Advance the ptrs to the next K block.\n",
        "    a_ptrs += BLOCK_SIZE_K * stride_ak\n",
        "    b_ptrs += BLOCK_SIZE_K * stride_bk\n",
        "  # You can fuse arbitrary activation functions here\n",
        "  # while the accumulator is still in FP32!\n",
        "  if ACTIVATION == \"leaky_relu\":\n",
        "    accumulator = leaky_relu(accumulator)\n",
        "  c = accumulator.to(tl.float16)\n",
        "\n",
        "  # -----------------------------------------------------------\n",
        "  # Write back the block of the output matrix C with masks.\n",
        "  offs_cm = pid_m * BLOCK_SIZE_M + tl.arange(0, BLOCK_SIZE_M)\n",
        "  offs_cn = pid_n * BLOCK_SIZE_N + tl.arange(0, BLOCK_SIZE_N)\n",
        "  c_ptrs = c_ptr + stride_cm * offs_cm[:, None] + stride_cn * offs_cn[None, :]\n",
        "  c_mask = (offs_cm[:, None] < M) & (offs_cn[None, :] < N)\n",
        "  tl.store(c_ptrs, c, mask=c_mask)\n",
        "\n",
        "\n",
        "# We can fuse `leaky_relu` by providing it as an `ACTIVATION` meta-parameter in `_matmul`.\n",
        "@triton.jit\n",
        "def leaky_relu(x):\n",
        "  x = x + 1\n",
        "  return tl.where(x >= 0, x, 0.01 * x)\n",
        "\n",
        "\n",
        "def matmul(a, b, activation=\"\"):\n",
        "  # Check constraints.\n",
        "  assert a.shape[1] == b.shape[0], \"Incompatible dimensions\"\n",
        "  assert a.is_contiguous(), \"Matrix A must be contiguous\"\n",
        "  assert b.is_contiguous(), \"Matrix B must be contiguous\"\n",
        "  M, K = a.shape\n",
        "  K, N = b.shape\n",
        "  # Allocates output.\n",
        "  c = torch.empty((M, N), device=a.device, dtype=a.dtype)\n",
        "\n",
        "  # 1D launch kernel where each block gets its own program.\n",
        "  def grid(META):\n",
        "    return (triton.cdiv(M, META[\"BLOCK_SIZE_M\"]) * triton.cdiv(N, META[\"BLOCK_SIZE_N\"]), )\n",
        "\n",
        "  matmul_kernel[grid](\n",
        "    a, b, c,  #\n",
        "    M, N, K,  #\n",
        "    a.stride(0), a.stride(1),  #\n",
        "    b.stride(0), b.stride(1),  #\n",
        "    c.stride(0), c.stride(1),  #\n",
        "    ACTIVATION=activation,  #\n",
        "  )\n",
        "  return c\n",
        "\n",
        "\n",
        "\n",
        "@triton.testing.perf_report(\n",
        "  triton.testing.Benchmark(\n",
        "    x_names=[\"M\", \"N\", \"K\"],  # Argument names to use as an x-axis for the plot\n",
        "    x_vals=[128 * i for i in range(2, 10)],  # Different possible values for `x_name`\n",
        "    line_arg=\"provider\",  # Argument name whose value corresponds to a different line in the plot\n",
        "    # Possible values for `line_arg`\n",
        "    line_vals=[\"cublas\", \"triton\"],\n",
        "    # Label name for the lines\n",
        "    line_names=[\"cuBLAS\", \"Triton\"],\n",
        "    # Line styles\n",
        "    styles=[(\"green\", \"-\"), (\"blue\", \"-\")],\n",
        "    ylabel=\"TFLOPS\",  # Label name for the y-axis\n",
        "    plot_name=\"matmul-performance\",  # Name for the plot, used also as a file name for saving the plot.\n",
        "    args={},\n",
        "  ))\n",
        "def benchmark(M, N, K, provider):\n",
        "  a = torch.randn((M, K), device=\"cuda\", dtype=torch.float16)\n",
        "  b = torch.randn((K, N), device=\"cuda\", dtype=torch.float16)\n",
        "  quantiles = [0.5, 0.2, 0.8]\n",
        "  with proton.scope(f\"matmul_{M}_{N}_{K}\"):\n",
        "    if provider == \"cublas\":\n",
        "\n",
        "      @proton.scope(\n",
        "        \"cublas\",\n",
        "        metrics={\n",
        "          \"flops\": 2 * M * N * K,\n",
        "          \"bytes\": (M * N + N * K + K * M) * a.element_size(),\n",
        "        },\n",
        "      )\n",
        "      def cublas_matmul(a, b):\n",
        "        torch.matmul(a, b)\n",
        "\n",
        "      ms, min_ms, max_ms = triton.testing.do_bench(lambda: cublas_matmul(a, b), quantiles=quantiles)\n",
        "    if provider == \"triton\":\n",
        "\n",
        "      def enter_autotune(args, reset_only=False):\n",
        "        if reset_only:\n",
        "          return\n",
        "        proton.enter_scope(\"<autotune>\")\n",
        "\n",
        "      def exit_autotune(args, exception):\n",
        "        proton.exit_scope()\n",
        "\n",
        "      matmul_kernel.pre_hook = enter_autotune\n",
        "      matmul_kernel.post_hook = exit_autotune\n",
        "      with proton.scope(\"triton\"):\n",
        "        ms, min_ms, max_ms = triton.testing.do_bench(lambda: matmul(a, b), quantiles=quantiles)\n",
        "\n",
        "  def perf(ms):\n",
        "    return 2 * M * N * K * 1e-12 / (ms * 1e-3)\n",
        "\n",
        "  return perf(ms), perf(max_ms), perf(min_ms)\n",
        "\n",
        "proton.start(\"matmul\", hook=\"triton\")\n",
        "benchmark.run(show_plots=True, print_data=True)\n",
        "proton.finalize()"
      ]
    },
    {
      "cell_type": "code",
      "execution_count": null,
      "metadata": {},
      "outputs": [],
      "source": [
        "!proton-viewer -m tflop/s -i \".*cublas.*\" ./matmul.hatchet"
      ]
    },
    {
      "cell_type": "markdown",
      "metadata": {},
      "source": [
        "### Demo 9: Triton Hooks"
      ]
    },
    {
      "cell_type": "code",
      "execution_count": 3,
      "metadata": {},
      "outputs": [
        {
          "name": "stdout",
          "output_type": "stream",
          "text": [
            "\u001b[38;5;196m8619.180\u001b[0m ROOT\u001b[0m\n",
            "├─ \u001b[38;5;34m1095.689\u001b[0m matmul_1024_1024_1024\u001b[0m\n",
            "│  └─ \u001b[38;5;34m986.756\u001b[0m triton\u001b[0m\n",
            "│     ├─ \u001b[38;5;22m91.267\u001b[0m <autotune>\u001b[0m\n",
            "│     │  ├─ \u001b[38;5;22m18.500\u001b[0m matmul_<grid:128x1x1>_<cluster:1x1x1>_<warps:4>_<shared:36864>_<stages:4>\u001b[0m\n",
            "│     │  ├─ \u001b[38;5;22m14.371\u001b[0m matmul_<grid:256x1x1>_<cluster:1x1x1>_<warps:4>_<shared:30720>_<stages:4>\u001b[0m\n",
            "│     │  ├─ \u001b[38;5;22m8.541\u001b[0m matmul_<grid:32x1x1>_<cluster:1x1x1>_<warps:8>_<shared:98304>_<stages:3>\u001b[0m\n",
            "│     │  ├─ \u001b[38;5;22m32.412\u001b[0m matmul_<grid:512x1x1>_<cluster:1x1x1>_<warps:2>_<shared:24576>_<stages:5>\u001b[0m\n",
            "│     │  ├─ \u001b[38;5;22m8.440\u001b[0m matmul_<grid:64x1x1>_<cluster:1x1x1>_<warps:4>_<shared:49152>_<stages:4>\u001b[0m\n",
            "│     │  └─ \u001b[38;5;22m9.003\u001b[0m matmul_<grid:64x1x1>_<cluster:1x1x1>_<warps:4>_<shared:61440>_<stages:4>\u001b[0m\n",
            "│     ├─ \u001b[38;5;34m887.167\u001b[0m _ZN2at6native29vectorized_elementwise_kernelILi4ENS0_11FillFunctorIiEENS_6detail5ArrayIPcLi1EEEEEviT0_T1_\u001b[0m\n",
            "│     └─ \u001b[38;5;22m8.322\u001b[0m matmul_<grid:64x1x1>_<cluster:1x1x1>_<warps:4>_<shared:49152>_<stages:4>\u001b[0m\n",
            "├─ \u001b[38;5;34m1102.237\u001b[0m matmul_1152_1152_1152\u001b[0m\n",
            "│  └─ \u001b[38;5;34m993.312\u001b[0m triton\u001b[0m\n",
            "│     ├─ \u001b[38;5;22m133.605\u001b[0m <autotune>\u001b[0m\n",
            "│     │  ├─ \u001b[38;5;22m27.702\u001b[0m matmul_<grid:162x1x1>_<cluster:1x1x1>_<warps:4>_<shared:36864>_<stages:4>\u001b[0m\n",
            "│     │  ├─ \u001b[38;5;22m20.118\u001b[0m matmul_<grid:324x1x1>_<cluster:1x1x1>_<warps:4>_<shared:30720>_<stages:4>\u001b[0m\n",
            "│     │  ├─ \u001b[38;5;22m13.861\u001b[0m matmul_<grid:45x1x1>_<cluster:1x1x1>_<warps:8>_<shared:98304>_<stages:3>\u001b[0m\n",
            "│     │  ├─ \u001b[38;5;22m45.026\u001b[0m matmul_<grid:648x1x1>_<cluster:1x1x1>_<warps:2>_<shared:24576>_<stages:5>\u001b[0m\n",
            "│     │  ├─ \u001b[38;5;22m12.546\u001b[0m matmul_<grid:81x1x1>_<cluster:1x1x1>_<warps:4>_<shared:49152>_<stages:4>\u001b[0m\n",
            "│     │  └─ \u001b[38;5;22m14.353\u001b[0m matmul_<grid:90x1x1>_<cluster:1x1x1>_<warps:4>_<shared:61440>_<stages:4>\u001b[0m\n",
            "│     ├─ \u001b[38;5;22m846.608\u001b[0m _ZN2at6native29vectorized_elementwise_kernelILi4ENS0_11FillFunctorIiEENS_6detail5ArrayIPcLi1EEEEEviT0_T1_\u001b[0m\n",
            "│     └─ \u001b[38;5;22m13.099\u001b[0m matmul_<grid:81x1x1>_<cluster:1x1x1>_<warps:4>_<shared:49152>_<stages:4>\u001b[0m\n",
            "├─ \u001b[38;5;34m1062.764\u001b[0m matmul_256_256_256\u001b[0m\n",
            "│  └─ \u001b[38;5;34m956.080\u001b[0m triton\u001b[0m\n",
            "│     ├─ \u001b[38;5;22m5.855\u001b[0m <autotune>\u001b[0m\n",
            "│     │  ├─ \u001b[38;5;22m0.498\u001b[0m matmul_<grid:16x1x1>_<cluster:1x1x1>_<warps:4>_<shared:30720>_<stages:4>\u001b[0m\n",
            "│     │  ├─ \u001b[38;5;22m1.583\u001b[0m matmul_<grid:2x1x1>_<cluster:1x1x1>_<warps:8>_<shared:98304>_<stages:3>\u001b[0m\n",
            "│     │  ├─ \u001b[38;5;22m0.995\u001b[0m matmul_<grid:32x1x1>_<cluster:1x1x1>_<warps:2>_<shared:24576>_<stages:5>\u001b[0m\n",
            "│     │  ├─ \u001b[38;5;22m0.850\u001b[0m matmul_<grid:4x1x1>_<cluster:1x1x1>_<warps:4>_<shared:49152>_<stages:4>\u001b[0m\n",
            "│     │  ├─ \u001b[38;5;22m0.883\u001b[0m matmul_<grid:4x1x1>_<cluster:1x1x1>_<warps:4>_<shared:61440>_<stages:4>\u001b[0m\n",
            "│     │  └─ \u001b[38;5;22m1.046\u001b[0m matmul_<grid:8x1x1>_<cluster:1x1x1>_<warps:4>_<shared:36864>_<stages:4>\u001b[0m\n",
            "│     ├─ \u001b[38;5;34m949.716\u001b[0m _ZN2at6native29vectorized_elementwise_kernelILi4ENS0_11FillFunctorIiEENS_6detail5ArrayIPcLi1EEEEEviT0_T1_\u001b[0m\n",
            "│     └─ \u001b[38;5;22m0.509\u001b[0m matmul_<grid:32x1x1>_<cluster:1x1x1>_<warps:2>_<shared:24576>_<stages:5>\u001b[0m\n",
            "├─ \u001b[38;5;34m1070.575\u001b[0m matmul_384_384_384\u001b[0m\n",
            "│  └─ \u001b[38;5;34m963.783\u001b[0m triton\u001b[0m\n",
            "│     ├─ \u001b[38;5;22m9.911\u001b[0m <autotune>\u001b[0m\n",
            "│     │  ├─ \u001b[38;5;22m1.106\u001b[0m matmul_<grid:12x1x1>_<cluster:1x1x1>_<warps:4>_<shared:61440>_<stages:4>\u001b[0m\n",
            "│     │  ├─ \u001b[38;5;22m2.148\u001b[0m matmul_<grid:18x1x1>_<cluster:1x1x1>_<warps:4>_<shared:36864>_<stages:4>\u001b[0m\n",
            "│     │  ├─ \u001b[38;5;22m1.129\u001b[0m matmul_<grid:36x1x1>_<cluster:1x1x1>_<warps:4>_<shared:30720>_<stages:4>\u001b[0m\n",
            "│     │  ├─ \u001b[38;5;22m1.904\u001b[0m matmul_<grid:6x1x1>_<cluster:1x1x1>_<warps:8>_<shared:98304>_<stages:3>\u001b[0m\n",
            "│     │  ├─ \u001b[38;5;22m2.509\u001b[0m matmul_<grid:72x1x1>_<cluster:1x1x1>_<warps:2>_<shared:24576>_<stages:5>\u001b[0m\n",
            "│     │  └─ \u001b[38;5;22m1.114\u001b[0m matmul_<grid:9x1x1>_<cluster:1x1x1>_<warps:4>_<shared:49152>_<stages:4>\u001b[0m\n",
            "│     ├─ \u001b[38;5;34m952.814\u001b[0m _ZN2at6native29vectorized_elementwise_kernelILi4ENS0_11FillFunctorIiEENS_6detail5ArrayIPcLi1EEEEEviT0_T1_\u001b[0m\n",
            "│     └─ \u001b[38;5;22m1.058\u001b[0m matmul_<grid:18x1x1>_<cluster:1x1x1>_<warps:4>_<shared:36864>_<stages:4>\u001b[0m\n",
            "├─ \u001b[38;5;34m1061.758\u001b[0m matmul_512_512_512\u001b[0m\n",
            "│  └─ \u001b[38;5;34m954.547\u001b[0m triton\u001b[0m\n",
            "│     ├─ \u001b[38;5;22m14.584\u001b[0m <autotune>\u001b[0m\n",
            "│     │  ├─ \u001b[38;5;22m4.692\u001b[0m matmul_<grid:128x1x1>_<cluster:1x1x1>_<warps:2>_<shared:24576>_<stages:5>\u001b[0m\n",
            "│     │  ├─ \u001b[38;5;22m1.342\u001b[0m matmul_<grid:16x1x1>_<cluster:1x1x1>_<warps:4>_<shared:49152>_<stages:4>\u001b[0m\n",
            "│     │  ├─ \u001b[38;5;22m1.369\u001b[0m matmul_<grid:16x1x1>_<cluster:1x1x1>_<warps:4>_<shared:61440>_<stages:4>\u001b[0m\n",
            "│     │  ├─ \u001b[38;5;22m2.834\u001b[0m matmul_<grid:32x1x1>_<cluster:1x1x1>_<warps:4>_<shared:36864>_<stages:4>\u001b[0m\n",
            "│     │  ├─ \u001b[38;5;22m1.998\u001b[0m matmul_<grid:64x1x1>_<cluster:1x1x1>_<warps:4>_<shared:30720>_<stages:4>\u001b[0m\n",
            "│     │  └─ \u001b[38;5;22m2.348\u001b[0m matmul_<grid:8x1x1>_<cluster:1x1x1>_<warps:8>_<shared:98304>_<stages:3>\u001b[0m\n",
            "│     ├─ \u001b[38;5;34m938.661\u001b[0m _ZN2at6native29vectorized_elementwise_kernelILi4ENS0_11FillFunctorIiEENS_6detail5ArrayIPcLi1EEEEEviT0_T1_\u001b[0m\n",
            "│     └─ \u001b[38;5;22m1.301\u001b[0m matmul_<grid:16x1x1>_<cluster:1x1x1>_<warps:4>_<shared:49152>_<stages:4>\u001b[0m\n",
            "├─ \u001b[38;5;34m1074.698\u001b[0m matmul_640_640_640\u001b[0m\n",
            "│  └─ \u001b[38;5;34m967.529\u001b[0m triton\u001b[0m\n",
            "│     ├─ \u001b[38;5;22m27.750\u001b[0m <autotune>\u001b[0m\n",
            "│     │  ├─ \u001b[38;5;22m3.880\u001b[0m matmul_<grid:100x1x1>_<cluster:1x1x1>_<warps:4>_<shared:30720>_<stages:4>\u001b[0m\n",
            "│     │  ├─ \u001b[38;5;22m2.988\u001b[0m matmul_<grid:15x1x1>_<cluster:1x1x1>_<warps:8>_<shared:98304>_<stages:3>\u001b[0m\n",
            "│     │  ├─ \u001b[38;5;22m8.986\u001b[0m matmul_<grid:200x1x1>_<cluster:1x1x1>_<warps:2>_<shared:24576>_<stages:5>\u001b[0m\n",
            "│     │  ├─ \u001b[38;5;22m2.858\u001b[0m matmul_<grid:25x1x1>_<cluster:1x1x1>_<warps:4>_<shared:49152>_<stages:4>\u001b[0m\n",
            "│     │  ├─ \u001b[38;5;22m3.112\u001b[0m matmul_<grid:30x1x1>_<cluster:1x1x1>_<warps:4>_<shared:61440>_<stages:4>\u001b[0m\n",
            "│     │  └─ \u001b[38;5;22m5.926\u001b[0m matmul_<grid:50x1x1>_<cluster:1x1x1>_<warps:4>_<shared:36864>_<stages:4>\u001b[0m\n",
            "│     ├─ \u001b[38;5;34m936.906\u001b[0m _ZN2at6native29vectorized_elementwise_kernelILi4ENS0_11FillFunctorIiEENS_6detail5ArrayIPcLi1EEEEEviT0_T1_\u001b[0m\n",
            "│     └─ \u001b[38;5;22m2.874\u001b[0m matmul_<grid:25x1x1>_<cluster:1x1x1>_<warps:4>_<shared:49152>_<stages:4>\u001b[0m\n",
            "├─ \u001b[38;5;34m1072.625\u001b[0m matmul_768_768_768\u001b[0m\n",
            "│  └─ \u001b[38;5;34m964.769\u001b[0m triton\u001b[0m\n",
            "│     ├─ \u001b[38;5;22m45.329\u001b[0m <autotune>\u001b[0m\n",
            "│     │  ├─ \u001b[38;5;22m5.657\u001b[0m matmul_<grid:144x1x1>_<cluster:1x1x1>_<warps:4>_<shared:30720>_<stages:4>\u001b[0m\n",
            "│     │  ├─ \u001b[38;5;22m6.546\u001b[0m matmul_<grid:18x1x1>_<cluster:1x1x1>_<warps:8>_<shared:98304>_<stages:3>\u001b[0m\n",
            "│     │  ├─ \u001b[38;5;22m14.583\u001b[0m matmul_<grid:288x1x1>_<cluster:1x1x1>_<warps:2>_<shared:24576>_<stages:5>\u001b[0m\n",
            "│     │  ├─ \u001b[38;5;22m4.670\u001b[0m matmul_<grid:36x1x1>_<cluster:1x1x1>_<warps:4>_<shared:49152>_<stages:4>\u001b[0m\n",
            "│     │  ├─ \u001b[38;5;22m5.065\u001b[0m matmul_<grid:36x1x1>_<cluster:1x1x1>_<warps:4>_<shared:61440>_<stages:4>\u001b[0m\n",
            "│     │  └─ \u001b[38;5;22m8.807\u001b[0m matmul_<grid:72x1x1>_<cluster:1x1x1>_<warps:4>_<shared:36864>_<stages:4>\u001b[0m\n",
            "│     ├─ \u001b[38;5;34m915.033\u001b[0m _ZN2at6native29vectorized_elementwise_kernelILi4ENS0_11FillFunctorIiEENS_6detail5ArrayIPcLi1EEEEEviT0_T1_\u001b[0m\n",
            "│     └─ \u001b[38;5;22m4.408\u001b[0m matmul_<grid:72x1x1>_<cluster:1x1x1>_<warps:4>_<shared:36864>_<stages:4>\u001b[0m\n",
            "└─ \u001b[38;5;34m1078.255\u001b[0m matmul_896_896_896\u001b[0m\n",
            "   └─ \u001b[38;5;34m969.478\u001b[0m triton\u001b[0m\n",
            "      ├─ \u001b[38;5;22m68.075\u001b[0m <autotune>\u001b[0m\n",
            "      │  ├─ \u001b[38;5;22m9.396\u001b[0m matmul_<grid:196x1x1>_<cluster:1x1x1>_<warps:4>_<shared:30720>_<stages:4>\u001b[0m\n",
            "      │  ├─ \u001b[38;5;22m7.673\u001b[0m matmul_<grid:28x1x1>_<cluster:1x1x1>_<warps:8>_<shared:98304>_<stages:3>\u001b[0m\n",
            "      │  ├─ \u001b[38;5;22m22.586\u001b[0m matmul_<grid:392x1x1>_<cluster:1x1x1>_<warps:2>_<shared:24576>_<stages:5>\u001b[0m\n",
            "      │  ├─ \u001b[38;5;22m7.171\u001b[0m matmul_<grid:49x1x1>_<cluster:1x1x1>_<warps:4>_<shared:49152>_<stages:4>\u001b[0m\n",
            "      │  ├─ \u001b[38;5;22m7.796\u001b[0m matmul_<grid:56x1x1>_<cluster:1x1x1>_<warps:4>_<shared:61440>_<stages:4>\u001b[0m\n",
            "      │  └─ \u001b[38;5;22m13.452\u001b[0m matmul_<grid:98x1x1>_<cluster:1x1x1>_<warps:4>_<shared:36864>_<stages:4>\u001b[0m\n",
            "      ├─ \u001b[38;5;34m894.729\u001b[0m _ZN2at6native29vectorized_elementwise_kernelILi4ENS0_11FillFunctorIiEENS_6detail5ArrayIPcLi1EEEEEviT0_T1_\u001b[0m\n",
            "      └─ \u001b[38;5;22m6.674\u001b[0m matmul_<grid:98x1x1>_<cluster:1x1x1>_<warps:4>_<shared:36864>_<stages:4>\u001b[0m\n",
            "\n",
            "\u001b[4mLegend\u001b[0m (Metric: time/ms (inc) Min: 0.50 Max: 8619.18)\n",
            "\u001b[38;5;196m█ \u001b[0m7757.31 - 8619.18\n",
            "\u001b[38;5;208m█ \u001b[0m6033.58 - 7757.31\n",
            "\u001b[38;5;220m█ \u001b[0m4309.84 - 6033.58\n",
            "\u001b[38;5;46m█ \u001b[0m2586.10 - 4309.84\n",
            "\u001b[38;5;34m█ \u001b[0m862.37 - 2586.10\n",
            "\u001b[38;5;22m█ \u001b[0m0.50 - 862.37\n",
            "\n",
            "name\u001b[0m User code    \u001b[38;5;160m◀ \u001b[0m Only in left graph    \u001b[38;5;28m▶ \u001b[0m Only in right graph\n",
            "\n"
          ]
        }
      ],
      "source": [
        "!proton-viewer -m time/ms -i \".*triton.*\" ./matmul.hatchet"
      ]
    },
    {
      "cell_type": "markdown",
      "metadata": {
        "id": "nEpIhpAYnbiT"
      },
      "source": [
        "### Demo 10: Roofline-based utilization"
      ]
    },
    {
      "cell_type": "code",
      "execution_count": null,
      "metadata": {
        "id": "LtdnVDnvnd13"
      },
      "outputs": [],
      "source": [
        "!proton-viewer -m util,tflop/s -i \".*triton.*\" ./matmul.hatchet"
      ]
    },
    {
      "cell_type": "markdown",
      "metadata": {
        "id": "tcWDx_4mnoVp"
      },
      "source": [
        "### Demo 11: Instruction sampling"
      ]
    },
    {
      "cell_type": "code",
      "execution_count": null,
      "metadata": {
        "id": "UPeKwvdKnswD"
      },
      "outputs": [],
      "source": [
        "proton.start(\"matmul\", backend=\"cupti_pcsampling\", hook=\"triton\")"
      ]
    },
    {
      "cell_type": "code",
      "execution_count": null,
      "metadata": {},
      "outputs": [],
      "source": [
        "!proton-viewer -m util,tflop/s -i \".*triton.*\" ./matmul.hatchet"
      ]
    },
    {
      "cell_type": "markdown",
      "metadata": {
        "id": "yFLSXo4Vnemg"
      },
      "source": []
    }
  ],
  "metadata": {
    "accelerator": "GPU",
    "colab": {
      "authorship_tag": "ABX9TyOAZtaEqH4TU7KVwLjaqEdS",
      "gpuType": "T4",
      "include_colab_link": true,
      "provenance": []
    },
    "kernelspec": {
      "display_name": "Python 3",
      "name": "python3"
    },
    "language_info": {
      "codemirror_mode": {
        "name": "ipython",
        "version": 3
      },
      "file_extension": ".py",
      "mimetype": "text/x-python",
      "name": "python",
      "nbconvert_exporter": "python",
      "pygments_lexer": "ipython3",
      "version": "3.10.12"
    }
  },
  "nbformat": 4,
  "nbformat_minor": 0
}
